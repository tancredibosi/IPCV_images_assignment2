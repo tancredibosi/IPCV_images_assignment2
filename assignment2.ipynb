{
  "cells": [
    {
      "cell_type": "markdown",
      "id": "bff95baf",
      "metadata": {
        "id": "bff95baf",
        "papermill": {
          "duration": 0.012672,
          "end_time": "2024-10-23T14:25:30.663208",
          "exception": false,
          "start_time": "2024-10-23T14:25:30.650536",
          "status": "completed"
        },
        "tags": []
      },
      "source": [
        "Tancredi Bosi, 0001121897, tancredi.bosi@studio.unibo.it <br>\n",
        "\n",
        "Francesco Farneti, 0001145280, francesco.farneti7@studio.unibo.it<br>\n",
        "\n",
        "Luca Mercuriali, 0001139257, luca.mercuriali2@studio.unibo.it <br>"
      ]
    },
    {
      "cell_type": "markdown",
      "id": "c76afc28",
      "metadata": {
        "id": "c76afc28",
        "papermill": {
          "duration": 0.011578,
          "end_time": "2024-10-23T14:25:30.687896",
          "exception": false,
          "start_time": "2024-10-23T14:25:30.676318",
          "status": "completed"
        },
        "tags": []
      },
      "source": [
        "# Assignment Module 2: Product Classification\n",
        "\n",
        "The goal of this assignment is to implement a neural network that classifies smartphone pictures of products found in grocery stores. The assignment will be divided into two parts: first, you will be asked to implement from scratch your own neural network for image classification; then, you will fine-tune a pretrained network provided by PyTorch.\n"
      ]
    },
    {
      "cell_type": "markdown",
      "metadata": {
        "id": "c19914da",
        "papermill": {
          "duration": 0.006735,
          "end_time": "2024-10-08T09:18:24.576516",
          "exception": false,
          "start_time": "2024-10-08T09:18:24.569781",
          "status": "completed"
        },
        "tags": []
      },
      "source": [
        "## Preliminaries: the dataset\n",
        "\n",
        "The dataset you will be using contains natural images of products taken with a smartphone camera in different grocery stores:\n",
        "\n",
        "<p align=\"center\">\n",
        "  <img src=\"https://github.com/marcusklasson/GroceryStoreDataset/raw/master/sample_images/natural/Granny-Smith.jpg\" width=\"150\">\n",
        "  <img src=\"https://github.com/marcusklasson/GroceryStoreDataset/raw/master/sample_images/natural/Pink-Lady.jpg\" width=\"150\">\n",
        "  <img src=\"https://github.com/marcusklasson/GroceryStoreDataset/raw/master/sample_images/natural/Lemon.jpg\" width=\"150\">\n",
        "  <img src=\"https://github.com/marcusklasson/GroceryStoreDataset/raw/master/sample_images/natural/Banana.jpg\" width=\"150\">\n",
        "  <img src=\"https://github.com/marcusklasson/GroceryStoreDataset/raw/master/sample_images/natural/Vine-Tomato.jpg\" width=\"150\">\n",
        "</p>\n",
        "<p align=\"center\">\n",
        "  <img src=\"https://github.com/marcusklasson/GroceryStoreDataset/raw/master/sample_images/natural/Yellow-Onion.jpg\" width=\"150\">\n",
        "  <img src=\"https://github.com/marcusklasson/GroceryStoreDataset/raw/master/sample_images/natural/Green-Bell-Pepper.jpg\" width=\"150\">\n",
        "  <img src=\"https://github.com/marcusklasson/GroceryStoreDataset/raw/master/sample_images/natural/Arla-Standard-Milk.jpg\" width=\"150\">\n",
        "  <img src=\"https://github.com/marcusklasson/GroceryStoreDataset/raw/master/sample_images/natural/Oatly-Natural-Oatghurt.jpg\" width=\"150\">\n",
        "  <img src=\"https://github.com/marcusklasson/GroceryStoreDataset/raw/master/sample_images/natural/Alpro-Fresh-Soy-Milk.jpg\" width=\"150\">\n",
        "</p>\n",
        "\n",
        "The products belong to the following 43 classes:\n",
        "```\n",
        "0.  Apple\n",
        "1.  Avocado\n",
        "2.  Banana\n",
        "3.  Kiwi\n",
        "4.  Lemon\n",
        "5.  Lime\n",
        "6.  Mango\n",
        "7.  Melon\n",
        "8.  Nectarine\n",
        "9.  Orange\n",
        "10. Papaya\n",
        "11. Passion-Fruit\n",
        "12. Peach\n",
        "13. Pear\n",
        "14. Pineapple\n",
        "15. Plum\n",
        "16. Pomegranate\n",
        "17. Red-Grapefruit\n",
        "18. Satsumas\n",
        "19. Juice\n",
        "20. Milk\n",
        "21. Oatghurt\n",
        "22. Oat-Milk\n",
        "23. Sour-Cream\n",
        "24. Sour-Milk\n",
        "25. Soyghurt\n",
        "26. Soy-Milk\n",
        "27. Yoghurt\n",
        "28. Asparagus\n",
        "29. Aubergine\n",
        "30. Cabbage\n",
        "31. Carrots\n",
        "32. Cucumber\n",
        "33. Garlic\n",
        "34. Ginger\n",
        "35. Leek\n",
        "36. Mushroom\n",
        "37. Onion\n",
        "38. Pepper\n",
        "39. Potato\n",
        "40. Red-Beet\n",
        "41. Tomato\n",
        "42. Zucchini\n",
        "```\n",
        "\n",
        "The dataset is split into training (`train`), validation (`val`), and test (`test`) set."
      ],
      "id": "c19914da"
    },
    {
      "cell_type": "markdown",
      "id": "c9ee3f7f",
      "metadata": {
        "id": "c9ee3f7f",
        "papermill": {
          "duration": 0.01145,
          "end_time": "2024-10-23T14:25:30.734149",
          "exception": false,
          "start_time": "2024-10-23T14:25:30.722699",
          "status": "completed"
        },
        "tags": []
      },
      "source": [
        "The following code cells download the dataset and define a `torch.utils.data.Dataset` class to access it. This `Dataset` class will be the starting point of your assignment: use it in your own code and build everything else around it."
      ]
    },
    {
      "cell_type": "code",
      "execution_count": null,
      "id": "ba3b5b47",
      "metadata": {
        "execution": {
          "iopub.execute_input": "2024-10-23T14:25:30.759595Z",
          "iopub.status.busy": "2024-10-23T14:25:30.758752Z",
          "iopub.status.idle": "2024-10-23T14:25:36.352847Z",
          "shell.execute_reply": "2024-10-23T14:25:36.351742Z"
        },
        "id": "ba3b5b47",
        "outputId": "ffd87325-2069-46b7-d53c-37f9de0333a2",
        "papermill": {
          "duration": 5.60936,
          "end_time": "2024-10-23T14:25:36.355330",
          "exception": false,
          "start_time": "2024-10-23T14:25:30.745970",
          "status": "completed"
        },
        "tags": [],
        "colab": {
          "base_uri": "https://localhost:8080/"
        }
      },
      "outputs": [
        {
          "output_type": "stream",
          "name": "stdout",
          "text": [
            "Cloning into 'GroceryStoreDataset'...\n",
            "remote: Enumerating objects: 6559, done.\u001b[K\n",
            "remote: Counting objects: 100% (266/266), done.\u001b[K\n",
            "remote: Compressing objects: 100% (231/231), done.\u001b[K\n",
            "remote: Total 6559 (delta 45), reused 35 (delta 35), pack-reused 6293 (from 1)\u001b[K\n",
            "Receiving objects: 100% (6559/6559), 116.26 MiB | 15.17 MiB/s, done.\n",
            "Resolving deltas: 100% (275/275), done.\n",
            "Updating files: 100% (5717/5717), done.\n"
          ]
        }
      ],
      "source": [
        "!git clone https://github.com/marcusklasson/GroceryStoreDataset.git"
      ]
    },
    {
      "cell_type": "code",
      "execution_count": null,
      "id": "662f0a8b",
      "metadata": {
        "execution": {
          "iopub.execute_input": "2024-10-23T14:25:36.390742Z",
          "iopub.status.busy": "2024-10-23T14:25:36.389787Z",
          "iopub.status.idle": "2024-10-23T14:25:39.767595Z",
          "shell.execute_reply": "2024-10-23T14:25:39.766554Z"
        },
        "id": "662f0a8b",
        "papermill": {
          "duration": 3.398027,
          "end_time": "2024-10-23T14:25:39.769937",
          "exception": false,
          "start_time": "2024-10-23T14:25:36.371910",
          "status": "completed"
        },
        "tags": []
      },
      "outputs": [],
      "source": [
        "from pathlib import Path\n",
        "from PIL import Image\n",
        "from torch import Tensor\n",
        "from torch.utils.data import Dataset\n",
        "from typing import List, Tuple"
      ]
    },
    {
      "cell_type": "code",
      "execution_count": null,
      "id": "b3bb4ea4",
      "metadata": {
        "execution": {
          "iopub.execute_input": "2024-10-23T14:25:39.805049Z",
          "iopub.status.busy": "2024-10-23T14:25:39.804152Z",
          "iopub.status.idle": "2024-10-23T14:25:39.814791Z",
          "shell.execute_reply": "2024-10-23T14:25:39.813899Z"
        },
        "id": "b3bb4ea4",
        "papermill": {
          "duration": 0.030194,
          "end_time": "2024-10-23T14:25:39.816740",
          "exception": false,
          "start_time": "2024-10-23T14:25:39.786546",
          "status": "completed"
        },
        "tags": []
      },
      "outputs": [],
      "source": [
        "class GroceryStoreDataset(Dataset):\n",
        "\n",
        "    def __init__(self, split: str, transform=None) -> None:\n",
        "        super().__init__()\n",
        "        self.root = Path(\"GroceryStoreDataset/dataset\")\n",
        "        self.split = split\n",
        "        self.paths, self.labels = self.read_file()\n",
        "        self.transform = transform\n",
        "\n",
        "    def __len__(self) -> int:\n",
        "        return len(self.labels)\n",
        "\n",
        "    def __getitem__(self, idx) -> Tuple[Tensor, int]:\n",
        "        img = Image.open(self.root / self.paths[idx])\n",
        "        label = self.labels[idx]\n",
        "\n",
        "        if self.transform:\n",
        "            img = self.transform(img)\n",
        "\n",
        "        return img, label\n",
        "\n",
        "    def read_file(self) -> Tuple[List[str], List[int]]:\n",
        "        paths = []\n",
        "        labels = []\n",
        "\n",
        "        with open(self.root / f\"{self.split}.txt\") as f:\n",
        "            for line in f:\n",
        "                # path, fine-grained class, coarse-grained class\n",
        "                path, _, label = line.replace(\"\\n\", \"\").split(\", \")\n",
        "                paths.append(path), labels.append(int(label))\n",
        "\n",
        "        return paths, labels\n",
        "\n",
        "    def get_num_classes(self) -> int:\n",
        "        return max(self.labels) + 1"
      ]
    },
    {
      "cell_type": "markdown",
      "id": "f5427087",
      "metadata": {
        "id": "f5427087",
        "papermill": {
          "duration": 0.017122,
          "end_time": "2024-10-23T14:25:39.850097",
          "exception": false,
          "start_time": "2024-10-23T14:25:39.832975",
          "status": "completed"
        },
        "tags": []
      },
      "source": [
        "## Part 1: design your own network\n",
        "\n",
        "\n",
        "\n",
        "Your goal is to implement a convolutional neural network for image classification and train it on `GroceryStoreDataset`. You should consider yourselves satisfied once you obtain a classification accuracy on the **validation** split of **around 60%**. You are free to achieve that however you want, except for a few rules you must follow:\n",
        "\n",
        "\n",
        "\n",
        "- You **cannot** simply instantiate an off-the-self PyTorch network. Instead, you must construct your network as a composition of existing PyTorch layers. In more concrete terms, you can use e.g. `torch.nn.Linear`, but you **cannot** use e.g. `torchvision.models.alexnet`.\n",
        "\n",
        "\n",
        "\n",
        "- Justify every *design choice* you make. Design choices include network architecture, training hyperparameters, and, possibly, dataset preprocessing steps. You can either (i) start from the simplest convolutional network you can think of and add complexity one step at a time, while showing how each step gets you closer to the target ~60%, or (ii) start from a model that is already able to achieve the desired accuracy and show how, by removing some of its components, its performance drops (i.e. an *ablation study*). You can *show* your results/improvements however you want: training plots, console-printed values or tables, or whatever else your heart desires: the clearer, the better.\n",
        "\n",
        "\n",
        "\n",
        "Don't be too concerned with your network performance: the ~60% is just to give you an idea of when to stop. Keep in mind that a thoroughly justified model with lower accuracy will be rewarded **more** points than a poorly experimentally validated model with higher accuracy."
      ]
    },
    {
      "cell_type": "code",
      "execution_count": null,
      "id": "0fa984f5",
      "metadata": {
        "execution": {
          "iopub.execute_input": "2024-10-23T14:25:39.884445Z",
          "iopub.status.busy": "2024-10-23T14:25:39.883664Z",
          "iopub.status.idle": "2024-10-23T14:25:52.739266Z",
          "shell.execute_reply": "2024-10-23T14:25:52.738037Z"
        },
        "id": "0fa984f5",
        "outputId": "d12dcc6a-c2cd-41f9-b5e4-343db93dddba",
        "papermill": {
          "duration": 12.875329,
          "end_time": "2024-10-23T14:25:52.741457",
          "exception": false,
          "start_time": "2024-10-23T14:25:39.866128",
          "status": "completed"
        },
        "tags": [],
        "colab": {
          "base_uri": "https://localhost:8080/"
        }
      },
      "outputs": [
        {
          "output_type": "stream",
          "name": "stdout",
          "text": [
            "Requirement already satisfied: torchsummary in /usr/local/lib/python3.10/dist-packages (1.5.1)\n"
          ]
        }
      ],
      "source": [
        "pip install torchsummary"
      ]
    },
    {
      "cell_type": "markdown",
      "id": "7c70c450",
      "metadata": {
        "id": "7c70c450",
        "papermill": {
          "duration": 0.016419,
          "end_time": "2024-10-23T14:25:52.774638",
          "exception": false,
          "start_time": "2024-10-23T14:25:52.758219",
          "status": "completed"
        },
        "tags": []
      },
      "source": [
        "### Import useful libraries"
      ]
    },
    {
      "cell_type": "code",
      "execution_count": null,
      "id": "8b53e3c0",
      "metadata": {
        "execution": {
          "iopub.execute_input": "2024-10-23T14:25:52.809519Z",
          "iopub.status.busy": "2024-10-23T14:25:52.809105Z",
          "iopub.status.idle": "2024-10-23T14:25:54.538298Z",
          "shell.execute_reply": "2024-10-23T14:25:54.537218Z"
        },
        "id": "8b53e3c0",
        "papermill": {
          "duration": 1.749721,
          "end_time": "2024-10-23T14:25:54.540748",
          "exception": false,
          "start_time": "2024-10-23T14:25:52.791027",
          "status": "completed"
        },
        "tags": []
      },
      "outputs": [],
      "source": [
        "from torchvision import transforms\n",
        "from torch.utils.data import DataLoader\n",
        "import torch\n",
        "import torch.nn as nn\n",
        "import torch.nn.functional as F\n",
        "import torch.optim as optim\n",
        "import matplotlib.pyplot as plt\n",
        "from torchsummary import summary\n",
        "from torch.utils.data import default_collate\n",
        "from torchvision.transforms import v2\n",
        "import numpy as np\n",
        "import random\n",
        "\n",
        "seed = 42\n",
        "torch.manual_seed(seed)\n",
        "np.random.seed(seed)\n",
        "random.seed(seed)\n",
        "if torch.cuda.is_available():\n",
        "    torch.cuda.manual_seed(seed)"
      ]
    },
    {
      "cell_type": "markdown",
      "id": "4c8b3be5",
      "metadata": {
        "id": "4c8b3be5",
        "papermill": {
          "duration": 0.016945,
          "end_time": "2024-10-23T14:25:54.574482",
          "exception": false,
          "start_time": "2024-10-23T14:25:54.557537",
          "status": "completed"
        },
        "tags": []
      },
      "source": [
        "### Set the hyperparameters for the first part"
      ]
    },
    {
      "cell_type": "code",
      "execution_count": null,
      "id": "d2a5576b",
      "metadata": {
        "execution": {
          "iopub.execute_input": "2024-10-23T14:25:54.609415Z",
          "iopub.status.busy": "2024-10-23T14:25:54.608539Z",
          "iopub.status.idle": "2024-10-23T14:25:54.613717Z",
          "shell.execute_reply": "2024-10-23T14:25:54.612817Z"
        },
        "id": "d2a5576b",
        "papermill": {
          "duration": 0.025051,
          "end_time": "2024-10-23T14:25:54.615768",
          "exception": false,
          "start_time": "2024-10-23T14:25:54.590717",
          "status": "completed"
        },
        "tags": []
      },
      "outputs": [],
      "source": [
        "# HYPERPARAMETERS\n",
        "image_size = (256, 256)\n",
        "batch_size = 32\n",
        "num_aug_copies = 4\n",
        "lr = 1e-3\n",
        "num_epochs = 50\n",
        "es_patience = 8\n",
        "scheduler_patience = 4"
      ]
    },
    {
      "cell_type": "markdown",
      "id": "4865f4ad",
      "metadata": {
        "id": "4865f4ad",
        "papermill": {
          "duration": 0.016241,
          "end_time": "2024-10-23T14:25:54.648384",
          "exception": false,
          "start_time": "2024-10-23T14:25:54.632143",
          "status": "completed"
        },
        "tags": []
      },
      "source": [
        "### Load the dataset and Data Augmentation\n",
        "\n",
        "The data is loaded with *image_size* and normalized. After that, we create the dataset augmenting it *num_aug_copies* times. <br>\n",
        "The transformations in the augmented copies are listed in the composition *augmentation_transform*.<br>\n",
        "Finally, we add also CutMix and MixUp. All this Data Augmentation helped us a lot to reduce overfitting in the training phase.\n",
        "\n",
        "\n"
      ]
    },
    {
      "cell_type": "code",
      "execution_count": null,
      "id": "71093e0e",
      "metadata": {
        "execution": {
          "iopub.execute_input": "2024-10-23T14:25:54.683014Z",
          "iopub.status.busy": "2024-10-23T14:25:54.682336Z",
          "iopub.status.idle": "2024-10-23T14:25:54.768276Z",
          "shell.execute_reply": "2024-10-23T14:25:54.767241Z"
        },
        "id": "71093e0e",
        "outputId": "479719a2-e750-4479-ce7f-044d14b9f9c4",
        "papermill": {
          "duration": 0.106492,
          "end_time": "2024-10-23T14:25:54.771145",
          "exception": false,
          "start_time": "2024-10-23T14:25:54.664653",
          "status": "completed"
        },
        "tags": [],
        "colab": {
          "base_uri": "https://localhost:8080/"
        }
      },
      "outputs": [
        {
          "output_type": "stream",
          "name": "stdout",
          "text": [
            "Dimension of the augmented dataset: 13200\n"
          ]
        }
      ],
      "source": [
        "class AugmentedDataset(Dataset):\n",
        "\n",
        "    def __init__(self, original_dataset, num_augmented_copies=1, augment_transform=None):\n",
        "        self.original_dataset = original_dataset\n",
        "        self.num_augmented_copies = num_augmented_copies\n",
        "        self.augment_transform = augment_transform\n",
        "\n",
        "        # Combine the original samples and the augmented samples\n",
        "        self.total_samples = len(self.original_dataset) * (1 + self.num_augmented_copies)\n",
        "\n",
        "    def __len__(self):\n",
        "        return self.total_samples\n",
        "\n",
        "    def __getitem__(self, idx):\n",
        "        original_length = len(self.original_dataset)\n",
        "\n",
        "        if idx < original_length:\n",
        "            return self.original_dataset[idx]\n",
        "        else:\n",
        "            # Create augmented sample\n",
        "            original_idx = idx % original_length\n",
        "            img, label = self.original_dataset[original_idx]\n",
        "\n",
        "            if self.augment_transform and isinstance(img, Image.Image):\n",
        "                img = self.augment_transform(img)\n",
        "\n",
        "            return img, label\n",
        "\n",
        "def collate_fn(batch):\n",
        "  return cutmix_or_mixup(*default_collate(batch))\n",
        "\n",
        "# Define the transformations for the training and validation sets\n",
        "transform = transforms.Compose([\n",
        "    transforms.Resize(image_size),\n",
        "    transforms.ToTensor(),\n",
        "    transforms.Normalize(mean=[0.485, 0.456, 0.406], std=[0.229, 0.224, 0.225])\n",
        "])\n",
        "\n",
        "# Define the transformations for augmented samples\n",
        "augmentation_transform = transforms.Compose([\n",
        "    transforms.RandomHorizontalFlip(p=0.5),\n",
        "    transforms.RandomRotation(degrees=15),\n",
        "    transforms.ColorJitter(brightness=0.2, contrast=0.2, saturation=0.2, hue=0.1),\n",
        "    transforms.RandomResizedCrop(size=image_size, scale=(0.8, 1.0)),\n",
        "    transforms.ToTensor(),\n",
        "    transforms.Normalize(mean=[0.485, 0.456, 0.406], std=[0.229, 0.224, 0.225])\n",
        "])\n",
        "\n",
        "\n",
        "original_dataset = GroceryStoreDataset(split='train', transform=transform)\n",
        "val_dataset = GroceryStoreDataset(split='val', transform=transform)\n",
        "\n",
        "augmented_dataset = AugmentedDataset(original_dataset, num_augmented_copies=num_aug_copies, augment_transform=augmentation_transform)\n",
        "print('Dimension of the augmented dataset:', augmented_dataset.__len__())\n",
        "\n",
        "cutmix = v2.CutMix(num_classes = 43, alpha=0.5)\n",
        "mixup = v2.MixUp(num_classes = 43, alpha=0.5)\n",
        "cutmix_or_mixup = v2.RandomChoice([cutmix, mixup])\n",
        "\n",
        "train_loader_augmented = DataLoader(augmented_dataset, batch_size=batch_size, shuffle=True, collate_fn=collate_fn)\n",
        "val_loader = DataLoader(val_dataset, batch_size=batch_size, shuffle=False)"
      ]
    },
    {
      "cell_type": "markdown",
      "id": "fe49bec5",
      "metadata": {
        "id": "fe49bec5",
        "papermill": {
          "duration": 0.016194,
          "end_time": "2024-10-23T14:25:54.807128",
          "exception": false,
          "start_time": "2024-10-23T14:25:54.790934",
          "status": "completed"
        },
        "tags": []
      },
      "source": [
        "### Define the network structure"
      ]
    },
    {
      "cell_type": "code",
      "execution_count": null,
      "id": "2acd6273",
      "metadata": {
        "execution": {
          "iopub.execute_input": "2024-10-23T14:25:54.841548Z",
          "iopub.status.busy": "2024-10-23T14:25:54.841187Z",
          "iopub.status.idle": "2024-10-23T14:25:54.857164Z",
          "shell.execute_reply": "2024-10-23T14:25:54.856427Z"
        },
        "id": "2acd6273",
        "papermill": {
          "duration": 0.035811,
          "end_time": "2024-10-23T14:25:54.859231",
          "exception": false,
          "start_time": "2024-10-23T14:25:54.823420",
          "status": "completed"
        },
        "tags": []
      },
      "outputs": [],
      "source": [
        "class CustomCNN(nn.Module):\n",
        "    def __init__(self, num_classes: int=43) -> None:\n",
        "        super(CustomCNN, self).__init__()\n",
        "        self.conv1 = nn.Conv2d(3, 16, kernel_size=3, stride=2, padding=1, bias=False)\n",
        "        self.conv2 = nn.Conv2d(16, 32, kernel_size=3, stride=1, padding=1, bias=False)\n",
        "        self.bn1 = nn.BatchNorm2d(32)\n",
        "        self.conv3 = nn.Conv2d(32, 64, kernel_size=3, stride=1, padding=1, bias=False)\n",
        "        self.bn2 = nn.BatchNorm2d(64)\n",
        "        self.conv4 = nn.Conv2d(64, 128, kernel_size=3, stride=1, padding=1, bias=False)\n",
        "        self.bn3 = nn.BatchNorm2d(128)\n",
        "        self.pool = nn.MaxPool2d(kernel_size=3, stride=2)\n",
        "        self.activation = nn.ReLU()\n",
        "        self.avgpool = nn.AdaptiveAvgPool2d((1, 1))\n",
        "\n",
        "        # 3 fully connected layers\n",
        "        self.fc1 = nn.Linear(128, 256)\n",
        "        self.fc2 = nn.Linear(256, 128)\n",
        "        self.fc3 = nn.Linear(128, num_classes)\n",
        "\n",
        "        self.dropout = nn.Dropout(p=0.5)\n",
        "\n",
        "        # Weight initialization\n",
        "        for m in self.modules():\n",
        "            if isinstance(m, nn.Conv2d):\n",
        "                nn.init.kaiming_normal_(m.weight, mode=\"fan_out\", nonlinearity=\"relu\")\n",
        "            elif isinstance(m, nn.BatchNorm2d):\n",
        "                nn.init.constant_(m.weight, 1)\n",
        "                nn.init.constant_(m.bias, 0)\n",
        "\n",
        "    def forward(self, x: torch.Tensor) -> torch.Tensor:\n",
        "        x1 = self.activation(self.conv1(x))\n",
        "        x1 = self.activation(self.bn1(self.conv2(x1)))\n",
        "        x1 = self.pool(x1)\n",
        "        x2 = self.activation(self.bn2(self.conv3(x1)))\n",
        "        x2 = self.pool(x2)\n",
        "        x2 = self.activation(self.bn3(self.conv4(x2)))\n",
        "        x2 = self.pool(x2)\n",
        "        x2 = self.avgpool(x2)\n",
        "        x2 = torch.flatten(x2, 1)\n",
        "\n",
        "        x2 = self.activation(self.dropout(self.fc1(x2)))\n",
        "        x2 = self.activation(self.dropout(self.fc2(x2)))\n",
        "        x2 = self.fc3(x2)\n",
        "\n",
        "        return x2.float()"
      ]
    },
    {
      "cell_type": "markdown",
      "id": "acacea10",
      "metadata": {
        "id": "acacea10",
        "papermill": {
          "duration": 0.016379,
          "end_time": "2024-10-23T14:25:54.892360",
          "exception": false,
          "start_time": "2024-10-23T14:25:54.875981",
          "status": "completed"
        },
        "tags": []
      },
      "source": [
        "### Define EarlyStopping and the training function"
      ]
    },
    {
      "cell_type": "code",
      "execution_count": null,
      "metadata": {
        "execution": {
          "iopub.execute_input": "2024-10-23T19:55:29.322753Z",
          "iopub.status.busy": "2024-10-23T19:55:29.322295Z",
          "iopub.status.idle": "2024-10-23T19:55:29.356735Z",
          "shell.execute_reply": "2024-10-23T19:55:29.355800Z"
        },
        "id": "fc3982f4",
        "papermill": {
          "duration": 0.056785,
          "end_time": "2024-10-23T19:55:29.359244",
          "exception": false,
          "start_time": "2024-10-23T19:55:29.302459",
          "status": "completed"
        },
        "tags": []
      },
      "outputs": [],
      "source": [
        "class EarlyStopping:\n",
        "    def __init__(self, patience=3, delta=0):\n",
        "        self.patience = patience\n",
        "        self.counter = 0\n",
        "        self.best_score = None\n",
        "        self.early_stop = False\n",
        "        self.val_loss_min = torch.inf\n",
        "        self.delta = delta\n",
        "        self.best_model_state_dict = None\n",
        "\n",
        "    def __call__(self, val_loss, model):\n",
        "        score = -val_loss\n",
        "\n",
        "        if self.best_score is None:\n",
        "            self.best_score = score\n",
        "            self.save_checkpoint(val_loss, model)\n",
        "        elif score < self.best_score + self.delta:\n",
        "            self.counter += 1\n",
        "            print(f'EarlyStopping counter: {self.counter} out of {self.patience}')\n",
        "            if self.counter >= self.patience:\n",
        "                self.early_stop = True\n",
        "        else:\n",
        "            self.best_score = score\n",
        "            self.save_checkpoint(val_loss, model)\n",
        "            self.counter = 0\n",
        "\n",
        "    def save_checkpoint(self, val_loss, model):\n",
        "        # Saves model when validation loss decrease.\n",
        "        if self.val_loss_min is None or val_loss < self.val_loss_min:\n",
        "            self.val_loss_min = val_loss\n",
        "            torch.save(model.state_dict(), 'checkpoint.pt')\n",
        "\n",
        "    def restore_best_weights(self, model):\n",
        "      model.load_state_dict(torch.load('checkpoint.pt'))\n",
        "\n",
        "# Training loop\n",
        "def train_model(model, train_loader, val_loader, criterion, optimizer, scheduler, num_epochs=20, patience=3):\n",
        "    early_stopping = EarlyStopping(patience=patience)\n",
        "\n",
        "    train_acc_history = []\n",
        "    val_acc_history = []\n",
        "    train_loss_history = []\n",
        "    val_loss_history = []\n",
        "    es_epoch = None\n",
        "\n",
        "    for epoch in range(num_epochs):\n",
        "        model.train()  # Set model to training mode\n",
        "        running_loss = 0.0\n",
        "        correct = 0\n",
        "        total = 0\n",
        "\n",
        "        for images, labels in train_loader:\n",
        "            images, labels = images.to('cuda'), labels.to('cuda') if torch.cuda.is_available() else (images, labels)\n",
        "            model.to('cuda') if torch.cuda.is_available() else model\n",
        "\n",
        "            optimizer.zero_grad()\n",
        "            outputs = model(images)\n",
        "            loss = criterion(outputs, labels)\n",
        "            loss.backward()\n",
        "            optimizer.step()\n",
        "\n",
        "            running_loss += loss.item()\n",
        "            _, predicted = torch.max(outputs, 1)\n",
        "            total += labels.size(0)\n",
        "            if labels.dim() > 1:\n",
        "                labels = torch.argmax(labels, 1)\n",
        "            correct += (predicted == labels).sum().item()\n",
        "\n",
        "        train_accuracy = 100 * correct / total\n",
        "        train_acc_history.append(train_accuracy)\n",
        "        print(f'Epoch [{epoch + 1}/{num_epochs}], Loss: {running_loss/len(train_loader):.4f}, Accuracy: {train_accuracy:.2f}%')\n",
        "        train_loss_history.append(running_loss / len(train_loader))\n",
        "\n",
        "        val_loss, val_accuracy = validate_model(model, val_loader, criterion)\n",
        "        val_loss_history.append(val_loss)\n",
        "        val_acc_history.append(val_accuracy)\n",
        "        scheduler.step(val_loss)\n",
        "\n",
        "        # Early Stopping check\n",
        "        early_stopping(val_loss, model)\n",
        "        if early_stopping.early_stop:\n",
        "          es_epoch = epoch + 1 - patience\n",
        "          print(\"Early stopping at epoch\", epoch + 1)\n",
        "          break\n",
        "\n",
        "    early_stopping.restore_best_weights(model)  # Restore best model weights\n",
        "\n",
        "    # Plot accuracy history\n",
        "    plot_history(train_acc_history, val_acc_history, train_loss_history, val_loss_history, es_epoch)\n",
        "\n",
        "# Validation loop\n",
        "def validate_model(model, val_loader, criterion):\n",
        "    model.eval()  # Set model to evaluation mode\n",
        "    val_loss = 0.0\n",
        "    correct = 0\n",
        "    total = 0\n",
        "    with torch.no_grad():\n",
        "        for images, labels in val_loader:\n",
        "            images, labels = images.to('cuda'), labels.to('cuda') if torch.cuda.is_available() else (images, labels)\n",
        "            model.to('cuda') if torch.cuda.is_available() else model\n",
        "\n",
        "            outputs = model(images)\n",
        "            loss = criterion(outputs, labels)\n",
        "            val_loss += loss.item()\n",
        "            _, predicted = torch.max(outputs, 1)\n",
        "            total += labels.size(0)\n",
        "            correct += (predicted == labels).sum().item()\n",
        "\n",
        "    val_accuracy = 100 * correct / total\n",
        "    print(f'Validation Loss: {val_loss/len(val_loader):.4f}, Validation Accuracy: {val_accuracy:.2f}%')\n",
        "    return val_loss / len(val_loader), val_accuracy\n",
        "\n",
        "def plot_history(train_acc_history, val_acc_history, train_loss_history, val_loss_history, es_epoch=False):\n",
        "    epochs = range(1, len(train_acc_history) + 1)\n",
        "\n",
        "    # Plot accuracy\n",
        "    plt.figure(figsize=(12, 5))\n",
        "\n",
        "    plt.subplot(1, 2, 1)\n",
        "    plt.plot(epochs, train_acc_history, 'bo--', label='Training Accuracy')\n",
        "    plt.plot(epochs, val_acc_history, 'go--', label='Validation Accuracy')\n",
        "    if es_epoch is not None:\n",
        "      plt.axvline(x=es_epoch, color='red', linestyle='--', label=f'Early Stopping at Epoch {es_epoch}')\n",
        "    plt.title('Training and Validation Accuracy')\n",
        "    plt.xlabel('Epochs')\n",
        "    plt.ylabel('Accuracy')\n",
        "    plt.legend()\n",
        "    plt.grid()\n",
        "\n",
        "    # Plot loss\n",
        "    plt.subplot(1, 2, 2)\n",
        "    plt.plot(epochs, train_loss_history, 'bo--', label='Training Loss')\n",
        "    plt.plot(epochs, val_loss_history, 'go--', label='Validation Loss')\n",
        "    if es_epoch is not None:\n",
        "      plt.axvline(x=es_epoch, color='red', linestyle='--', label=f'Early Stopping at Epoch {es_epoch}')\n",
        "    plt.title('Training and Validation Loss')\n",
        "    plt.xlabel('Epochs')\n",
        "    plt.ylabel('Loss')\n",
        "    plt.legend()\n",
        "    plt.grid()\n",
        "\n",
        "    plt.tight_layout()\n",
        "    plt.show()\n",
        "\n",
        "def print_accuracy(model, test_loader, criterion, data):\n",
        "    model.eval()\n",
        "    correct = 0\n",
        "    total = 0\n",
        "    with torch.no_grad():\n",
        "        for images, labels in test_loader:\n",
        "            images, labels = images.to('cuda'), labels.to('cuda') if torch.cuda.is_available() else (images, labels)\n",
        "            model.to('cuda') if torch.cuda.is_available() else model\n",
        "            outputs = model(images)\n",
        "            _, predicted = torch.max(outputs, 1)\n",
        "            total += labels.size(0)\n",
        "            correct += (predicted == labels).sum().item()\n",
        "\n",
        "    accuracy = 100 * correct / total\n",
        "    print(f'{data} Accuracy: {accuracy:.2f}%')"
      ],
      "id": "fc3982f4"
    },
    {
      "cell_type": "markdown",
      "id": "8dc944ed",
      "metadata": {
        "id": "8dc944ed",
        "papermill": {
          "duration": 0.016445,
          "end_time": "2024-10-23T14:25:55.015470",
          "exception": false,
          "start_time": "2024-10-23T14:25:54.999025",
          "status": "completed"
        },
        "tags": []
      },
      "source": [
        "### Create the model and visualize the structure"
      ]
    },
    {
      "cell_type": "code",
      "execution_count": null,
      "id": "511d94f4",
      "metadata": {
        "execution": {
          "iopub.execute_input": "2024-10-23T14:25:55.049796Z",
          "iopub.status.busy": "2024-10-23T14:25:55.049419Z",
          "iopub.status.idle": "2024-10-23T14:25:55.863503Z",
          "shell.execute_reply": "2024-10-23T14:25:55.862634Z"
        },
        "id": "511d94f4",
        "outputId": "6aa6e58e-278a-4a4c-e5e0-7c6d903a6b3c",
        "papermill": {
          "duration": 0.833888,
          "end_time": "2024-10-23T14:25:55.865726",
          "exception": false,
          "start_time": "2024-10-23T14:25:55.031838",
          "status": "completed"
        },
        "tags": [],
        "colab": {
          "base_uri": "https://localhost:8080/"
        }
      },
      "outputs": [
        {
          "output_type": "stream",
          "name": "stdout",
          "text": [
            "----------------------------------------------------------------\n",
            "        Layer (type)               Output Shape         Param #\n",
            "================================================================\n",
            "            Conv2d-1         [-1, 16, 128, 128]             432\n",
            "              ReLU-2         [-1, 16, 128, 128]               0\n",
            "            Conv2d-3         [-1, 32, 128, 128]           4,608\n",
            "       BatchNorm2d-4         [-1, 32, 128, 128]              64\n",
            "              ReLU-5         [-1, 32, 128, 128]               0\n",
            "         MaxPool2d-6           [-1, 32, 63, 63]               0\n",
            "            Conv2d-7           [-1, 64, 63, 63]          18,432\n",
            "       BatchNorm2d-8           [-1, 64, 63, 63]             128\n",
            "              ReLU-9           [-1, 64, 63, 63]               0\n",
            "        MaxPool2d-10           [-1, 64, 31, 31]               0\n",
            "           Conv2d-11          [-1, 128, 31, 31]          73,728\n",
            "      BatchNorm2d-12          [-1, 128, 31, 31]             256\n",
            "             ReLU-13          [-1, 128, 31, 31]               0\n",
            "        MaxPool2d-14          [-1, 128, 15, 15]               0\n",
            "AdaptiveAvgPool2d-15            [-1, 128, 1, 1]               0\n",
            "           Linear-16                  [-1, 256]          33,024\n",
            "          Dropout-17                  [-1, 256]               0\n",
            "             ReLU-18                  [-1, 256]               0\n",
            "           Linear-19                  [-1, 128]          32,896\n",
            "          Dropout-20                  [-1, 128]               0\n",
            "             ReLU-21                  [-1, 128]               0\n",
            "           Linear-22                   [-1, 43]           5,547\n",
            "================================================================\n",
            "Total params: 169,115\n",
            "Trainable params: 169,115\n",
            "Non-trainable params: 0\n",
            "----------------------------------------------------------------\n",
            "Input size (MB): 0.75\n",
            "Forward/backward pass size (MB): 26.30\n",
            "Params size (MB): 0.65\n",
            "Estimated Total Size (MB): 27.69\n",
            "----------------------------------------------------------------\n"
          ]
        }
      ],
      "source": [
        "num_classes = original_dataset.get_num_classes()\n",
        "model_taskA = CustomCNN(num_classes=num_classes)\n",
        "model_taskA.to('cuda') if torch.cuda.is_available() else model_taskA\n",
        "summary(model_taskA, input_size=(3, 256, 256))"
      ]
    },
    {
      "cell_type": "markdown",
      "id": "46f03a83",
      "metadata": {
        "id": "46f03a83",
        "papermill": {
          "duration": 0.01645,
          "end_time": "2024-10-23T14:25:55.898938",
          "exception": false,
          "start_time": "2024-10-23T14:25:55.882488",
          "status": "completed"
        },
        "tags": []
      },
      "source": [
        "### Train the model\n"
      ]
    },
    {
      "cell_type": "code",
      "execution_count": null,
      "id": "dd4179c6",
      "metadata": {
        "execution": {
          "iopub.execute_input": "2024-10-23T14:25:55.935571Z",
          "iopub.status.busy": "2024-10-23T14:25:55.934819Z",
          "iopub.status.idle": "2024-10-23T15:00:50.687954Z",
          "shell.execute_reply": "2024-10-23T15:00:50.686938Z"
        },
        "id": "dd4179c6",
        "outputId": "686816d5-e934-4237-8036-467d2d6277f2",
        "papermill": {
          "duration": 2094.774648,
          "end_time": "2024-10-23T15:00:50.690763",
          "exception": false,
          "start_time": "2024-10-23T14:25:55.916115",
          "status": "completed"
        },
        "tags": [],
        "colab": {
          "base_uri": "https://localhost:8080/",
          "height": 1000
        }
      },
      "outputs": [
        {
          "output_type": "stream",
          "name": "stdout",
          "text": [
            "Epoch [1/50], Loss: 2.9003, Accuracy: 24.27%\n",
            "Validation Loss: 2.3271, Validation Accuracy: 32.77%\n",
            "Epoch [2/50], Loss: 2.4385, Accuracy: 37.53%\n",
            "Validation Loss: 1.9744, Validation Accuracy: 39.19%\n",
            "Epoch [3/50], Loss: 2.3336, Accuracy: 43.02%\n",
            "Validation Loss: 1.6636, Validation Accuracy: 50.68%\n",
            "Epoch [4/50], Loss: 2.1488, Accuracy: 49.27%\n",
            "Validation Loss: 1.7894, Validation Accuracy: 42.57%\n",
            "EarlyStopping counter: 1 out of 8\n",
            "Epoch [5/50], Loss: 2.0898, Accuracy: 52.80%\n",
            "Validation Loss: 1.4618, Validation Accuracy: 51.69%\n",
            "Epoch [6/50], Loss: 2.0084, Accuracy: 55.16%\n",
            "Validation Loss: 1.6712, Validation Accuracy: 48.65%\n",
            "EarlyStopping counter: 1 out of 8\n",
            "Epoch [7/50], Loss: 1.9111, Accuracy: 59.04%\n",
            "Validation Loss: 1.3564, Validation Accuracy: 56.76%\n",
            "Epoch [8/50], Loss: 1.8686, Accuracy: 61.68%\n",
            "Validation Loss: 1.3397, Validation Accuracy: 55.07%\n",
            "Epoch [9/50], Loss: 1.8649, Accuracy: 62.63%\n",
            "Validation Loss: 1.4179, Validation Accuracy: 52.03%\n",
            "EarlyStopping counter: 1 out of 8\n",
            "Epoch [10/50], Loss: 1.8013, Accuracy: 64.80%\n",
            "Validation Loss: 1.4039, Validation Accuracy: 56.08%\n",
            "EarlyStopping counter: 2 out of 8\n",
            "Epoch [11/50], Loss: 1.7346, Accuracy: 66.24%\n",
            "Validation Loss: 1.3835, Validation Accuracy: 58.78%\n",
            "EarlyStopping counter: 3 out of 8\n",
            "Epoch [12/50], Loss: 1.7928, Accuracy: 66.72%\n",
            "Validation Loss: 1.2576, Validation Accuracy: 63.51%\n",
            "Epoch [13/50], Loss: 1.7467, Accuracy: 67.86%\n",
            "Validation Loss: 1.3038, Validation Accuracy: 62.16%\n",
            "EarlyStopping counter: 1 out of 8\n",
            "Epoch [14/50], Loss: 1.6947, Accuracy: 69.02%\n",
            "Validation Loss: 1.4239, Validation Accuracy: 57.77%\n",
            "EarlyStopping counter: 2 out of 8\n",
            "Epoch [15/50], Loss: 1.6705, Accuracy: 70.30%\n",
            "Validation Loss: 1.1878, Validation Accuracy: 63.18%\n",
            "Epoch [16/50], Loss: 1.6592, Accuracy: 71.25%\n",
            "Validation Loss: 1.2524, Validation Accuracy: 62.50%\n",
            "EarlyStopping counter: 1 out of 8\n",
            "Epoch [17/50], Loss: 1.5856, Accuracy: 72.46%\n",
            "Validation Loss: 1.3141, Validation Accuracy: 59.80%\n",
            "EarlyStopping counter: 2 out of 8\n",
            "Epoch [18/50], Loss: 1.6704, Accuracy: 71.08%\n",
            "Validation Loss: 1.4493, Validation Accuracy: 56.08%\n",
            "EarlyStopping counter: 3 out of 8\n",
            "Epoch [19/50], Loss: 1.5864, Accuracy: 74.17%\n",
            "Validation Loss: 1.3533, Validation Accuracy: 59.80%\n",
            "EarlyStopping counter: 4 out of 8\n",
            "Epoch [20/50], Loss: 1.5205, Accuracy: 76.60%\n",
            "Validation Loss: 1.1848, Validation Accuracy: 65.20%\n",
            "Epoch [21/50], Loss: 1.5066, Accuracy: 76.47%\n",
            "Validation Loss: 1.1752, Validation Accuracy: 66.55%\n",
            "Epoch [22/50], Loss: 1.5572, Accuracy: 75.70%\n",
            "Validation Loss: 1.2427, Validation Accuracy: 63.18%\n",
            "EarlyStopping counter: 1 out of 8\n",
            "Epoch [23/50], Loss: 1.5545, Accuracy: 76.73%\n",
            "Validation Loss: 1.3327, Validation Accuracy: 61.15%\n",
            "EarlyStopping counter: 2 out of 8\n",
            "Epoch [24/50], Loss: 1.5542, Accuracy: 76.23%\n",
            "Validation Loss: 1.3182, Validation Accuracy: 61.15%\n",
            "EarlyStopping counter: 3 out of 8\n",
            "Epoch [25/50], Loss: 1.5553, Accuracy: 75.73%\n",
            "Validation Loss: 1.2465, Validation Accuracy: 61.15%\n",
            "EarlyStopping counter: 4 out of 8\n",
            "Epoch [26/50], Loss: 1.4869, Accuracy: 77.27%\n",
            "Validation Loss: 1.3767, Validation Accuracy: 61.82%\n",
            "EarlyStopping counter: 5 out of 8\n",
            "Epoch [27/50], Loss: 1.4130, Accuracy: 80.50%\n",
            "Validation Loss: 1.1341, Validation Accuracy: 65.54%\n",
            "Epoch [28/50], Loss: 1.4110, Accuracy: 82.20%\n",
            "Validation Loss: 1.1481, Validation Accuracy: 65.88%\n",
            "EarlyStopping counter: 1 out of 8\n",
            "Epoch [29/50], Loss: 1.3752, Accuracy: 81.19%\n",
            "Validation Loss: 1.1590, Validation Accuracy: 66.22%\n",
            "EarlyStopping counter: 2 out of 8\n",
            "Epoch [30/50], Loss: 1.3606, Accuracy: 81.50%\n",
            "Validation Loss: 1.2186, Validation Accuracy: 65.88%\n",
            "EarlyStopping counter: 3 out of 8\n",
            "Epoch [31/50], Loss: 1.3387, Accuracy: 82.55%\n",
            "Validation Loss: 1.1550, Validation Accuracy: 65.20%\n",
            "EarlyStopping counter: 4 out of 8\n",
            "Epoch [32/50], Loss: 1.3858, Accuracy: 82.50%\n",
            "Validation Loss: 1.1813, Validation Accuracy: 66.55%\n",
            "EarlyStopping counter: 5 out of 8\n",
            "Epoch [33/50], Loss: 1.3805, Accuracy: 82.63%\n",
            "Validation Loss: 1.1428, Validation Accuracy: 68.58%\n",
            "EarlyStopping counter: 6 out of 8\n",
            "Epoch [34/50], Loss: 1.3321, Accuracy: 83.20%\n",
            "Validation Loss: 1.1400, Validation Accuracy: 65.54%\n",
            "EarlyStopping counter: 7 out of 8\n",
            "Epoch [35/50], Loss: 1.3626, Accuracy: 83.28%\n",
            "Validation Loss: 1.1174, Validation Accuracy: 65.88%\n",
            "Epoch [36/50], Loss: 1.3639, Accuracy: 82.52%\n",
            "Validation Loss: 1.0823, Validation Accuracy: 66.22%\n",
            "Epoch [37/50], Loss: 1.3779, Accuracy: 81.92%\n",
            "Validation Loss: 1.1368, Validation Accuracy: 66.89%\n",
            "EarlyStopping counter: 1 out of 8\n",
            "Epoch [38/50], Loss: 1.3438, Accuracy: 82.80%\n",
            "Validation Loss: 1.1164, Validation Accuracy: 66.22%\n",
            "EarlyStopping counter: 2 out of 8\n",
            "Epoch [39/50], Loss: 1.3666, Accuracy: 83.11%\n",
            "Validation Loss: 1.0904, Validation Accuracy: 67.91%\n",
            "EarlyStopping counter: 3 out of 8\n",
            "Epoch [40/50], Loss: 1.3337, Accuracy: 83.30%\n",
            "Validation Loss: 1.0914, Validation Accuracy: 67.91%\n",
            "EarlyStopping counter: 4 out of 8\n",
            "Epoch [41/50], Loss: 1.3988, Accuracy: 82.56%\n",
            "Validation Loss: 1.1661, Validation Accuracy: 66.55%\n",
            "EarlyStopping counter: 5 out of 8\n",
            "Epoch [42/50], Loss: 1.3010, Accuracy: 85.08%\n",
            "Validation Loss: 1.1234, Validation Accuracy: 66.89%\n",
            "EarlyStopping counter: 6 out of 8\n",
            "Epoch [43/50], Loss: 1.3438, Accuracy: 84.13%\n",
            "Validation Loss: 1.1188, Validation Accuracy: 66.55%\n",
            "EarlyStopping counter: 7 out of 8\n",
            "Epoch [44/50], Loss: 1.3086, Accuracy: 82.81%\n",
            "Validation Loss: 1.1106, Validation Accuracy: 67.91%\n",
            "EarlyStopping counter: 8 out of 8\n",
            "Early stopping at epoch 44\n"
          ]
        },
        {
          "output_type": "stream",
          "name": "stderr",
          "text": [
            "<ipython-input-9-44ad95387356>:67: FutureWarning: You are using `torch.load` with `weights_only=False` (the current default value), which uses the default pickle module implicitly. It is possible to construct malicious pickle data which will execute arbitrary code during unpickling (See https://github.com/pytorch/pytorch/blob/main/SECURITY.md#untrusted-models for more details). In a future release, the default value for `weights_only` will be flipped to `True`. This limits the functions that could be executed during unpickling. Arbitrary objects will no longer be allowed to be loaded via this mode unless they are explicitly allowlisted by the user via `torch.serialization.add_safe_globals`. We recommend you start setting `weights_only=True` for any use case where you don't have full control of the loaded file. Please open an issue on GitHub for any issues related to this experimental feature.\n",
            "  model.load_state_dict(torch.load('checkpoint.pt'))\n"
          ]
        },
        {
          "output_type": "display_data",
          "data": {
            "text/plain": [
              "<Figure size 1200x500 with 2 Axes>"
            ],
            "image/png": "[encoded data removed]"
          },
          "metadata": {}
        }
      ],
      "source": [
        "criterion = nn.CrossEntropyLoss()\n",
        "optimizer = optim.AdamW(model_taskA.parameters(), lr=lr)\n",
        "scheduler = optim.lr_scheduler.ReduceLROnPlateau(optimizer=optimizer, mode='min', factor=0.3, patience=scheduler_patience)\n",
        "train_model(model_taskA, train_loader_augmented, val_loader, criterion, optimizer, scheduler, num_epochs=num_epochs, patience=es_patience)"
      ]
    },
    {
      "cell_type": "markdown",
      "id": "9c9b4f67",
      "metadata": {
        "id": "9c9b4f67",
        "papermill": {
          "duration": 0.02288,
          "end_time": "2024-10-23T15:00:50.737313",
          "exception": false,
          "start_time": "2024-10-23T15:00:50.714433",
          "status": "completed"
        },
        "tags": []
      },
      "source": [
        "### Print Results"
      ]
    },
    {
      "cell_type": "code",
      "execution_count": null,
      "id": "1ce2fc58",
      "metadata": {
        "execution": {
          "iopub.execute_input": "2024-10-23T15:00:50.786024Z",
          "iopub.status.busy": "2024-10-23T15:00:50.784954Z",
          "iopub.status.idle": "2024-10-23T15:00:51.795924Z",
          "shell.execute_reply": "2024-10-23T15:00:51.794769Z"
        },
        "id": "1ce2fc58",
        "papermill": {
          "duration": 1.037573,
          "end_time": "2024-10-23T15:00:51.798090",
          "exception": false,
          "start_time": "2024-10-23T15:00:50.760517",
          "status": "completed"
        },
        "tags": [],
        "outputId": "7b1594bf-d980-406d-b61a-4f8a9263a3f2",
        "colab": {
          "base_uri": "https://localhost:8080/"
        }
      },
      "outputs": [
        {
          "output_type": "stream",
          "name": "stdout",
          "text": [
            "Validation Accuracy: 66.22%\n"
          ]
        }
      ],
      "source": [
        "print_accuracy(model_taskA, val_loader, criterion, 'Validation')"
      ]
    },
    {
      "cell_type": "markdown",
      "id": "49f472f4",
      "metadata": {
        "id": "49f472f4",
        "papermill": {
          "duration": 0.024762,
          "end_time": "2024-10-23T15:00:51.851735",
          "exception": false,
          "start_time": "2024-10-23T15:00:51.826973",
          "status": "completed"
        },
        "tags": []
      },
      "source": [
        "### Discussion over the network"
      ]
    },
    {
      "cell_type": "markdown",
      "id": "e71d8480",
      "metadata": {
        "id": "e71d8480",
        "papermill": {
          "duration": 0.022758,
          "end_time": "2024-10-23T15:00:51.897812",
          "exception": false,
          "start_time": "2024-10-23T15:00:51.875054",
          "status": "completed"
        },
        "tags": []
      },
      "source": [
        "#### Network Architecture\n",
        "\n",
        "The aim of our project was to build a network with a small number of parameters to achieve good performances on the dataset. We achived that through the use of techniques learned in the course that helped us to have better results implementing a network that has a low number of parameters.<br>\n",
        "\n",
        "We decided to avoid the use of stem layer, so our network starts with a 3x3 stride-2 convolution that halves the image input size and brings the number of channels to 16. <br>\n",
        "\n",
        "After that, we chose to follow the idea of the VGG network, so we designed the network as a repetition of stages, but we decided to keep them simpler. We implemented 3 stages, in particular each of them includes a 3x3 stride-1 convolution that doubles the number of channels, a batch-normalization layer and a max-pool layer that halves the image size. Though the stages have only one convolution, we achieved a good result in the training process, so we kept them that way to preserve simplicity.<br>\n",
        "\n",
        "After that, we used an adaptive global average pooling layer that reduces the activation size to 128 (number of channels achieved with the stages).<br>\n",
        "\n",
        "Finally, we added 3 fully-connected layers that process the data and output the prediction class. Initially we implemented only one fully-connected layer, but we achieved way better results using 3 at the cost of having about 60.000 additional parameters. This choice helped us a lot also to reduce overfitting, because we added dropout to the first 2 fully-connected layers.<br>\n",
        "\n",
        "The network has **169,115** parameters, so it is small. We decided to initialize the parameters using Kaiming normal distribution because it helps the training to converge using ReLu as activation function [*K. He, X. Zhang, S. Ren and J. Sun, \"Delving Deep into Rectifiers: Surpassing Human-Level Performance on ImageNet Classification,\" 2015 IEEE International Conference on Computer Vision (ICCV), Santiago, Chile, 2015, pp. 1026-1034, doi: 10.1109/ICCV.2015.123*].\n",
        "\n",
        "<br><br>\n",
        "\n",
        "\n",
        "\n",
        "\n",
        "\n",
        "#### Training process\n",
        "\n",
        "We first trained the network using only AdamW resulting in a strong case of overfitting. Then, we added the Data Augmentation class, MixUp and CutOut achieving way better results. After that we improved the training process using the LRReduceOnPlateau scheduler and adding Early Stopping; the second one reduced again overfitting restoring the best weights of the model.<br>\n",
        "\n",
        "We decided also to work with normalized and resized images to lower the time of the training phase.<br>\n",
        "\n",
        "With these design choices we are able to achive a validation accuracy of 66% without overfitting too much (training accuracy of 82%)."
      ]
    },
    {
      "cell_type": "markdown",
      "id": "181a5416",
      "metadata": {
        "id": "181a5416",
        "papermill": {
          "duration": 0.022694,
          "end_time": "2024-10-23T15:00:51.943550",
          "exception": false,
          "start_time": "2024-10-23T15:00:51.920856",
          "status": "completed"
        },
        "tags": []
      },
      "source": [
        "### Ablation Study\n",
        "\n",
        "To motivate the choices made we performed an ablation study comparing the training and validation accuracies with a given component and without it. The blue lines refer to our choice, the green lines refer to the non-adopted choice.<br>\n",
        "\n",
        "We performed the ablation study on kaggle to fasten the process (better GPU) and mantain the compactness of the notebook.\n"
      ]
    },
    {
      "cell_type": "markdown",
      "id": "987d126f",
      "metadata": {
        "id": "987d126f",
        "papermill": {
          "duration": 0.024293,
          "end_time": "2024-10-23T15:00:51.991055",
          "exception": false,
          "start_time": "2024-10-23T15:00:51.966762",
          "status": "completed"
        },
        "tags": []
      },
      "source": [
        "#### Global Average Pooling\n",
        "\n",
        "Because we decided to have 3 fully-connected layers the global average pooling helped us a lot in reducing the number of parameters: 7,509,147 parameters without global average pooling and 169,115 using it.<br>\n",
        "\n",
        "Global average pooling reduces also overfitting a lot, making the network train better and achieving higher accuracy.\n",
        "\n",
        "![Average Pooling](https://raw.githubusercontent.com/tancredibosi/IPCV_images_assignment2/main/res-as-avg-pooling-task1.png)\n",
        "\n",
        "<br>\n",
        "\n",
        "#### Data Augmentation\n",
        "\n",
        "Data Augmentation helped the training reducing overfitting and thus achiving better accuracy results. This was important because the given training set has a small size.\n",
        "\n",
        "![data](https://raw.githubusercontent.com/tancredibosi/IPCV_images_assignment2/main/res-as-data-augmentation-task1.png)\n",
        "\n",
        "<br>\n",
        "\n",
        "#### Dropout\n",
        "\n",
        "As discussed before, the two dropout layers reduced overfitting and allowed us to implement more fully connected layers in order to achieve better accuracy.\n",
        "\n",
        "![Dropout](https://raw.githubusercontent.com/tancredibosi/IPCV_images_assignment2/main/res-as-dropout-task1.png)"
      ]
    },
    {
      "cell_type": "markdown",
      "id": "78f81b12",
      "metadata": {
        "id": "78f81b12",
        "papermill": {
          "duration": 0.0232,
          "end_time": "2024-10-23T15:00:52.037373",
          "exception": false,
          "start_time": "2024-10-23T15:00:52.014173",
          "status": "completed"
        },
        "tags": []
      },
      "source": [
        "## Part 2: fine-tune an existing network\n",
        "\n",
        "\n",
        "\n",
        "Your goal is to fine-tune a pretrained **ResNet-18** model on `GroceryStoreDataset`. Use the implementation provided by PyTorch, do not implement it yourselves! (i.e. exactly what you **could not** do in the first part of the assignment). Specifically, you must use the PyTorch ResNet-18 model pretrained on ImageNet-1K (V1). Divide your fine-tuning into two parts:\n",
        "\n",
        "\n",
        "\n",
        "1. First, fine-tune the Resnet-18 with the same training hyperparameters you used for your best model in the first part of the assignment.\n",
        "\n",
        "1. Then, tweak the training hyperparameters in order to increase the accuracy on the validation split of `GroceryStoreDataset`. Justify your choices by analyzing the training plots and/or citing sources that guided you in your decisions (papers, blog posts, YouTube videos, or whatever else you find enlightening). You should consider yourselves satisfied once you obtain a classification accuracy on the **validation** split **between 80 and 90%**."
      ]
    },
    {
      "cell_type": "markdown",
      "id": "4f6db7c1",
      "metadata": {
        "id": "4f6db7c1",
        "papermill": {
          "duration": 0.023036,
          "end_time": "2024-10-23T15:00:52.083605",
          "exception": false,
          "start_time": "2024-10-23T15:00:52.060569",
          "status": "completed"
        },
        "tags": []
      },
      "source": [
        "### Define the ResNet class"
      ]
    },
    {
      "cell_type": "markdown",
      "id": "54ba79d9",
      "metadata": {
        "id": "54ba79d9",
        "papermill": {
          "duration": 0.023843,
          "end_time": "2024-10-23T15:00:52.189096",
          "exception": false,
          "start_time": "2024-10-23T15:00:52.165253",
          "status": "completed"
        },
        "tags": []
      },
      "source": [
        "## Task 2 - Part 1"
      ]
    },
    {
      "cell_type": "code",
      "execution_count": null,
      "metadata": {
        "execution": {
          "iopub.execute_input": "2024-10-23T19:55:31.062959Z",
          "iopub.status.busy": "2024-10-23T19:55:31.062570Z",
          "iopub.status.idle": "2024-10-23T19:55:31.071682Z",
          "shell.execute_reply": "2024-10-23T19:55:31.070773Z"
        },
        "id": "7d4ea93f",
        "papermill": {
          "duration": 0.030087,
          "end_time": "2024-10-23T19:55:31.073778",
          "exception": false,
          "start_time": "2024-10-23T19:55:31.043691",
          "status": "completed"
        },
        "tags": []
      },
      "outputs": [],
      "source": [
        "from torchvision.models import resnet18, ResNet18_Weights\n",
        "\n",
        "class ResNet(nn.Module):\n",
        "    def __init__(self, num_classes: int=43) -> None:\n",
        "        super(ResNet, self).__init__()\n",
        "        weights = ResNet18_Weights.IMAGENET1K_V1\n",
        "        self.resnet = resnet18(weights=weights, progress=True)\n",
        "\n",
        "        num_ftrs = self.resnet.fc.in_features\n",
        "\n",
        "        # Add to the end of the ResNet the fully-connected classification block of our previous network\n",
        "        self.resnet.fc = nn.Sequential(\n",
        "            nn.Linear(num_ftrs, 256),\n",
        "            nn.Dropout(p=0.5),\n",
        "            nn.ReLU(),\n",
        "            nn.Linear(256, 128),\n",
        "            nn.Dropout(p=0.5),\n",
        "            nn.ReLU(),\n",
        "            nn.Linear(128, num_classes)\n",
        "        )\n",
        "\n",
        "        # Initialize the weights of the new layers\n",
        "        nn.init.xavier_uniform_(self.resnet.fc[0].weight)\n",
        "        nn.init.xavier_uniform_(self.resnet.fc[3].weight)\n",
        "        nn.init.xavier_uniform_(self.resnet.fc[6].weight)\n",
        "\n",
        "    def forward(self, x: torch.Tensor) -> torch.Tensor:\n",
        "        return self.resnet(x)"
      ],
      "id": "7d4ea93f"
    },
    {
      "cell_type": "markdown",
      "id": "481af64e",
      "metadata": {
        "id": "481af64e",
        "papermill": {
          "duration": 0.022624,
          "end_time": "2024-10-23T15:00:52.234993",
          "exception": false,
          "start_time": "2024-10-23T15:00:52.212369",
          "status": "completed"
        },
        "tags": []
      },
      "source": [
        "### Traing the ResNet with the previous hyperparameters"
      ]
    },
    {
      "cell_type": "code",
      "execution_count": null,
      "metadata": {
        "execution": {
          "iopub.execute_input": "2024-10-23T19:55:31.182558Z",
          "iopub.status.busy": "2024-10-23T19:55:31.182127Z",
          "iopub.status.idle": "2024-10-23T19:55:31.845675Z",
          "shell.execute_reply": "2024-10-23T19:55:31.844658Z"
        },
        "id": "f593f96d",
        "outputId": "b811cd75-08b3-4e93-f6c3-aef82c4254da",
        "papermill": {
          "duration": 0.686329,
          "end_time": "2024-10-23T19:55:31.849301",
          "exception": false,
          "start_time": "2024-10-23T19:55:31.162972",
          "status": "completed"
        },
        "tags": []
      },
      "outputs": [
        {
          "name": "stderr",
          "output_type": "stream",
          "text": [
            "Downloading: \"https://download.pytorch.org/models/resnet18-f37072fd.pth\" to /root/.cache/torch/hub/checkpoints/resnet18-f37072fd.pth\n",
            "100%|██████████| 44.7M/44.7M [00:00<00:00, 204MB/s]\n"
          ]
        },
        {
          "name": "stdout",
          "output_type": "stream",
          "text": [
            "----------------------------------------------------------------\n",
            "        Layer (type)               Output Shape         Param #\n",
            "================================================================\n",
            "            Conv2d-1         [-1, 64, 128, 128]           9,408\n",
            "       BatchNorm2d-2         [-1, 64, 128, 128]             128\n",
            "              ReLU-3         [-1, 64, 128, 128]               0\n",
            "         MaxPool2d-4           [-1, 64, 64, 64]               0\n",
            "            Conv2d-5           [-1, 64, 64, 64]          36,864\n",
            "       BatchNorm2d-6           [-1, 64, 64, 64]             128\n",
            "              ReLU-7           [-1, 64, 64, 64]               0\n",
            "            Conv2d-8           [-1, 64, 64, 64]          36,864\n",
            "       BatchNorm2d-9           [-1, 64, 64, 64]             128\n",
            "             ReLU-10           [-1, 64, 64, 64]               0\n",
            "       BasicBlock-11           [-1, 64, 64, 64]               0\n",
            "           Conv2d-12           [-1, 64, 64, 64]          36,864\n",
            "      BatchNorm2d-13           [-1, 64, 64, 64]             128\n",
            "             ReLU-14           [-1, 64, 64, 64]               0\n",
            "           Conv2d-15           [-1, 64, 64, 64]          36,864\n",
            "      BatchNorm2d-16           [-1, 64, 64, 64]             128\n",
            "             ReLU-17           [-1, 64, 64, 64]               0\n",
            "       BasicBlock-18           [-1, 64, 64, 64]               0\n",
            "           Conv2d-19          [-1, 128, 32, 32]          73,728\n",
            "      BatchNorm2d-20          [-1, 128, 32, 32]             256\n",
            "             ReLU-21          [-1, 128, 32, 32]               0\n",
            "           Conv2d-22          [-1, 128, 32, 32]         147,456\n",
            "      BatchNorm2d-23          [-1, 128, 32, 32]             256\n",
            "           Conv2d-24          [-1, 128, 32, 32]           8,192\n",
            "      BatchNorm2d-25          [-1, 128, 32, 32]             256\n",
            "             ReLU-26          [-1, 128, 32, 32]               0\n",
            "       BasicBlock-27          [-1, 128, 32, 32]               0\n",
            "           Conv2d-28          [-1, 128, 32, 32]         147,456\n",
            "      BatchNorm2d-29          [-1, 128, 32, 32]             256\n",
            "             ReLU-30          [-1, 128, 32, 32]               0\n",
            "           Conv2d-31          [-1, 128, 32, 32]         147,456\n",
            "      BatchNorm2d-32          [-1, 128, 32, 32]             256\n",
            "             ReLU-33          [-1, 128, 32, 32]               0\n",
            "       BasicBlock-34          [-1, 128, 32, 32]               0\n",
            "           Conv2d-35          [-1, 256, 16, 16]         294,912\n",
            "      BatchNorm2d-36          [-1, 256, 16, 16]             512\n",
            "             ReLU-37          [-1, 256, 16, 16]               0\n",
            "           Conv2d-38          [-1, 256, 16, 16]         589,824\n",
            "      BatchNorm2d-39          [-1, 256, 16, 16]             512\n",
            "           Conv2d-40          [-1, 256, 16, 16]          32,768\n",
            "      BatchNorm2d-41          [-1, 256, 16, 16]             512\n",
            "             ReLU-42          [-1, 256, 16, 16]               0\n",
            "       BasicBlock-43          [-1, 256, 16, 16]               0\n",
            "           Conv2d-44          [-1, 256, 16, 16]         589,824\n",
            "      BatchNorm2d-45          [-1, 256, 16, 16]             512\n",
            "             ReLU-46          [-1, 256, 16, 16]               0\n",
            "           Conv2d-47          [-1, 256, 16, 16]         589,824\n",
            "      BatchNorm2d-48          [-1, 256, 16, 16]             512\n",
            "             ReLU-49          [-1, 256, 16, 16]               0\n",
            "       BasicBlock-50          [-1, 256, 16, 16]               0\n",
            "           Conv2d-51            [-1, 512, 8, 8]       1,179,648\n",
            "      BatchNorm2d-52            [-1, 512, 8, 8]           1,024\n",
            "             ReLU-53            [-1, 512, 8, 8]               0\n",
            "           Conv2d-54            [-1, 512, 8, 8]       2,359,296\n",
            "      BatchNorm2d-55            [-1, 512, 8, 8]           1,024\n",
            "           Conv2d-56            [-1, 512, 8, 8]         131,072\n",
            "      BatchNorm2d-57            [-1, 512, 8, 8]           1,024\n",
            "             ReLU-58            [-1, 512, 8, 8]               0\n",
            "       BasicBlock-59            [-1, 512, 8, 8]               0\n",
            "           Conv2d-60            [-1, 512, 8, 8]       2,359,296\n",
            "      BatchNorm2d-61            [-1, 512, 8, 8]           1,024\n",
            "             ReLU-62            [-1, 512, 8, 8]               0\n",
            "           Conv2d-63            [-1, 512, 8, 8]       2,359,296\n",
            "      BatchNorm2d-64            [-1, 512, 8, 8]           1,024\n",
            "             ReLU-65            [-1, 512, 8, 8]               0\n",
            "       BasicBlock-66            [-1, 512, 8, 8]               0\n",
            "AdaptiveAvgPool2d-67            [-1, 512, 1, 1]               0\n",
            "           Linear-68                  [-1, 256]         131,328\n",
            "          Dropout-69                  [-1, 256]               0\n",
            "             ReLU-70                  [-1, 256]               0\n",
            "           Linear-71                  [-1, 128]          32,896\n",
            "          Dropout-72                  [-1, 128]               0\n",
            "             ReLU-73                  [-1, 128]               0\n",
            "           Linear-74                   [-1, 43]           5,547\n",
            "           ResNet-75                   [-1, 43]               0\n",
            "================================================================\n",
            "Total params: 11,346,283\n",
            "Trainable params: 11,346,283\n",
            "Non-trainable params: 0\n",
            "----------------------------------------------------------------\n",
            "Input size (MB): 0.75\n",
            "Forward/backward pass size (MB): 82.01\n",
            "Params size (MB): 43.28\n",
            "Estimated Total Size (MB): 126.05\n",
            "----------------------------------------------------------------\n"
          ]
        }
      ],
      "source": [
        "num_classes = original_dataset.get_num_classes()\n",
        "model_taskB = ResNet(num_classes)\n",
        "model_taskB.to('cuda') if torch.cuda.is_available() else model_taskB\n",
        "summary(model_taskB, input_size=(3, 256, 256))\n",
        "\n",
        "optimizer = optim.AdamW(model_taskB.parameters(), lr=lr)"
      ],
      "id": "f593f96d"
    },
    {
      "cell_type": "code",
      "execution_count": null,
      "metadata": {
        "execution": {
          "iopub.execute_input": "2024-10-23T19:55:31.895082Z",
          "iopub.status.busy": "2024-10-23T19:55:31.894113Z",
          "iopub.status.idle": "2024-10-23T20:38:24.225479Z",
          "shell.execute_reply": "2024-10-23T20:38:24.224523Z"
        },
        "id": "cb400a31",
        "outputId": "f59784ef-abd7-4e7a-e966-b66782958fb9",
        "papermill": {
          "duration": 2572.357685,
          "end_time": "2024-10-23T20:38:24.228320",
          "exception": false,
          "start_time": "2024-10-23T19:55:31.870635",
          "status": "completed"
        },
        "tags": []
      },
      "outputs": [
        {
          "name": "stdout",
          "output_type": "stream",
          "text": [
            "Epoch [1/50], Loss: 2.9035, Accuracy: 34.11%\n",
            "Validation Loss: 2.2816, Validation Accuracy: 42.91%\n",
            "Epoch [2/50], Loss: 2.4451, Accuracy: 48.57%\n",
            "Validation Loss: 2.0407, Validation Accuracy: 51.69%\n",
            "Epoch [3/50], Loss: 2.1479, Accuracy: 58.13%\n",
            "Validation Loss: 1.7585, Validation Accuracy: 60.14%\n",
            "Epoch [4/50], Loss: 1.9263, Accuracy: 64.77%\n",
            "Validation Loss: 1.4540, Validation Accuracy: 61.82%\n",
            "Epoch [5/50], Loss: 1.7888, Accuracy: 69.01%\n",
            "Validation Loss: 1.4710, Validation Accuracy: 63.85%\n",
            "EarlyStopping counter: 1 out of 8\n",
            "Epoch [6/50], Loss: 1.7262, Accuracy: 72.61%\n",
            "Validation Loss: 1.3930, Validation Accuracy: 64.53%\n",
            "Epoch [7/50], Loss: 1.6529, Accuracy: 75.78%\n",
            "Validation Loss: 1.2780, Validation Accuracy: 71.28%\n",
            "Epoch [8/50], Loss: 1.5556, Accuracy: 79.34%\n",
            "Validation Loss: 1.2786, Validation Accuracy: 69.26%\n",
            "EarlyStopping counter: 1 out of 8\n",
            "Epoch [9/50], Loss: 1.4910, Accuracy: 82.27%\n",
            "Validation Loss: 1.3198, Validation Accuracy: 67.57%\n",
            "EarlyStopping counter: 2 out of 8\n",
            "Epoch [10/50], Loss: 1.5650, Accuracy: 81.28%\n",
            "Validation Loss: 1.2770, Validation Accuracy: 66.89%\n",
            "Epoch [11/50], Loss: 1.4180, Accuracy: 84.04%\n",
            "Validation Loss: 1.1156, Validation Accuracy: 72.97%\n",
            "Epoch [12/50], Loss: 1.4749, Accuracy: 84.10%\n",
            "Validation Loss: 1.1494, Validation Accuracy: 74.66%\n",
            "EarlyStopping counter: 1 out of 8\n",
            "Epoch [13/50], Loss: 1.4386, Accuracy: 85.56%\n",
            "Validation Loss: 1.1074, Validation Accuracy: 71.28%\n",
            "Epoch [14/50], Loss: 1.4133, Accuracy: 84.91%\n",
            "Validation Loss: 1.2536, Validation Accuracy: 68.58%\n",
            "EarlyStopping counter: 1 out of 8\n",
            "Epoch [15/50], Loss: 1.3215, Accuracy: 87.61%\n",
            "Validation Loss: 1.3866, Validation Accuracy: 66.22%\n",
            "EarlyStopping counter: 2 out of 8\n",
            "Epoch [16/50], Loss: 1.3326, Accuracy: 87.80%\n",
            "Validation Loss: 1.2222, Validation Accuracy: 71.28%\n",
            "EarlyStopping counter: 3 out of 8\n",
            "Epoch [17/50], Loss: 1.3193, Accuracy: 88.14%\n",
            "Validation Loss: 1.0620, Validation Accuracy: 75.68%\n",
            "Epoch [18/50], Loss: 1.2549, Accuracy: 88.16%\n",
            "Validation Loss: 1.0949, Validation Accuracy: 73.31%\n",
            "EarlyStopping counter: 1 out of 8\n",
            "Epoch [19/50], Loss: 1.2715, Accuracy: 87.78%\n",
            "Validation Loss: 1.0041, Validation Accuracy: 78.04%\n",
            "Epoch [20/50], Loss: 1.2088, Accuracy: 88.67%\n",
            "Validation Loss: 1.1002, Validation Accuracy: 75.68%\n",
            "EarlyStopping counter: 1 out of 8\n",
            "Epoch [21/50], Loss: 1.2473, Accuracy: 88.14%\n",
            "Validation Loss: 1.0678, Validation Accuracy: 75.00%\n",
            "EarlyStopping counter: 2 out of 8\n",
            "Epoch [22/50], Loss: 1.1449, Accuracy: 89.58%\n",
            "Validation Loss: 1.2734, Validation Accuracy: 68.92%\n",
            "EarlyStopping counter: 3 out of 8\n",
            "Epoch [23/50], Loss: 1.1779, Accuracy: 89.65%\n",
            "Validation Loss: 0.9933, Validation Accuracy: 74.32%\n",
            "Epoch [24/50], Loss: 1.1917, Accuracy: 86.77%\n",
            "Validation Loss: 1.2009, Validation Accuracy: 70.27%\n",
            "EarlyStopping counter: 1 out of 8\n",
            "Epoch [25/50], Loss: 1.1897, Accuracy: 88.04%\n",
            "Validation Loss: 1.0957, Validation Accuracy: 74.66%\n",
            "EarlyStopping counter: 2 out of 8\n",
            "Epoch [26/50], Loss: 1.1961, Accuracy: 87.94%\n",
            "Validation Loss: 1.0181, Validation Accuracy: 77.36%\n",
            "EarlyStopping counter: 3 out of 8\n",
            "Epoch [27/50], Loss: 1.1465, Accuracy: 89.05%\n",
            "Validation Loss: 0.9960, Validation Accuracy: 71.62%\n",
            "EarlyStopping counter: 4 out of 8\n",
            "Epoch [28/50], Loss: 1.1611, Accuracy: 89.36%\n",
            "Validation Loss: 1.0889, Validation Accuracy: 73.65%\n",
            "EarlyStopping counter: 5 out of 8\n",
            "Epoch [29/50], Loss: 1.1902, Accuracy: 87.53%\n",
            "Validation Loss: 1.0232, Validation Accuracy: 70.95%\n",
            "EarlyStopping counter: 6 out of 8\n",
            "Epoch [30/50], Loss: 1.0942, Accuracy: 88.31%\n",
            "Validation Loss: 1.0956, Validation Accuracy: 70.61%\n",
            "EarlyStopping counter: 7 out of 8\n",
            "Epoch [31/50], Loss: 1.0878, Accuracy: 89.01%\n",
            "Validation Loss: 1.0170, Validation Accuracy: 76.01%\n",
            "EarlyStopping counter: 8 out of 8\n",
            "Early stopping at epoch 31\n"
          ]
        },
        {
          "name": "stderr",
          "output_type": "stream",
          "text": [
            "/tmp/ipykernel_23/3685422308.py:67: FutureWarning: You are using `torch.load` with `weights_only=False` (the current default value), which uses the default pickle module implicitly. It is possible to construct malicious pickle data which will execute arbitrary code during unpickling (See https://github.com/pytorch/pytorch/blob/main/SECURITY.md#untrusted-models for more details). In a future release, the default value for `weights_only` will be flipped to `True`. This limits the functions that could be executed during unpickling. Arbitrary objects will no longer be allowed to be loaded via this mode unless they are explicitly allowlisted by the user via `torch.serialization.add_safe_globals`. We recommend you start setting `weights_only=True` for any use case where you don't have full control of the loaded file. Please open an issue on GitHub for any issues related to this experimental feature.\n",
            "  model.load_state_dict(torch.load('checkpoint.pt'))\n"
          ]
        },
        {
          "data": {
            "image/png": "[encoded data removed]",
            "text/plain": [
              "<Figure size 1200x500 with 2 Axes>"
            ]
          },
          "metadata": {},
          "output_type": "display_data"
        }
      ],
      "source": [
        "train_model(model_taskB, train_loader_augmented, val_loader, criterion, optimizer, scheduler, num_epochs=num_epochs, patience=es_patience)"
      ],
      "id": "cb400a31"
    },
    {
      "cell_type": "markdown",
      "id": "5da0c211",
      "metadata": {
        "id": "5da0c211",
        "papermill": {
          "duration": 0.028995,
          "end_time": "2024-10-23T15:36:36.845009",
          "exception": false,
          "start_time": "2024-10-23T15:36:36.816014",
          "status": "completed"
        },
        "tags": []
      },
      "source": [
        "### Print Results"
      ]
    },
    {
      "cell_type": "code",
      "execution_count": null,
      "metadata": {
        "execution": {
          "iopub.execute_input": "2024-10-23T20:38:24.329907Z",
          "iopub.status.busy": "2024-10-23T20:38:24.329093Z",
          "iopub.status.idle": "2024-10-23T20:38:25.676276Z",
          "shell.execute_reply": "2024-10-23T20:38:25.675267Z"
        },
        "id": "0dc0875a",
        "papermill": {
          "duration": 1.375625,
          "end_time": "2024-10-23T20:38:25.678560",
          "exception": false,
          "start_time": "2024-10-23T20:38:24.302935",
          "status": "completed"
        },
        "tags": [],
        "outputId": "3d91de78-8aeb-4474-c64a-7fe1bcc4a71c"
      },
      "outputs": [
        {
          "name": "stdout",
          "output_type": "stream",
          "text": [
            "Validation Accuracy: 74.32%\n"
          ]
        }
      ],
      "source": [
        "print_accuracy(model_taskB, val_loader, criterion, 'Validation')"
      ],
      "id": "0dc0875a"
    },
    {
      "cell_type": "markdown",
      "id": "61444815",
      "metadata": {
        "id": "61444815",
        "papermill": {
          "duration": 0.029657,
          "end_time": "2024-10-23T15:36:38.227677",
          "exception": false,
          "start_time": "2024-10-23T15:36:38.198020",
          "status": "completed"
        },
        "tags": []
      },
      "source": [
        "## Task 2 - Part 2"
      ]
    },
    {
      "cell_type": "markdown",
      "id": "7dd5052d",
      "metadata": {
        "id": "7dd5052d",
        "papermill": {
          "duration": 0.029843,
          "end_time": "2024-10-23T15:36:38.287421",
          "exception": false,
          "start_time": "2024-10-23T15:36:38.257578",
          "status": "completed"
        },
        "tags": []
      },
      "source": [
        "### Define the new hyperparameters"
      ]
    },
    {
      "cell_type": "code",
      "execution_count": null,
      "id": "1c6e9ccb",
      "metadata": {
        "execution": {
          "iopub.execute_input": "2024-10-23T15:36:38.358325Z",
          "iopub.status.busy": "2024-10-23T15:36:38.357736Z",
          "iopub.status.idle": "2024-10-23T15:36:38.363363Z",
          "shell.execute_reply": "2024-10-23T15:36:38.362306Z"
        },
        "id": "1c6e9ccb",
        "papermill": {
          "duration": 0.049408,
          "end_time": "2024-10-23T15:36:38.367939",
          "exception": false,
          "start_time": "2024-10-23T15:36:38.318531",
          "status": "completed"
        },
        "tags": []
      },
      "outputs": [],
      "source": [
        "# HYPERPARAMETERS\n",
        "image_size = (320, 320)\n",
        "batch_size = 128\n",
        "num_aug_copies = 5\n",
        "lr_pretrained = 7e-6\n",
        "lr_fc = 7e-5\n",
        "num_epochs = 50\n",
        "es_patience = 8\n",
        "scheduler_patience = 4"
      ]
    },
    {
      "cell_type": "markdown",
      "id": "71bff1de",
      "metadata": {
        "id": "71bff1de",
        "papermill": {
          "duration": 0.030209,
          "end_time": "2024-10-23T15:36:38.430196",
          "exception": false,
          "start_time": "2024-10-23T15:36:38.399987",
          "status": "completed"
        },
        "tags": []
      },
      "source": [
        "### Reload the dataset with the new settings"
      ]
    },
    {
      "cell_type": "code",
      "execution_count": null,
      "id": "79de8d0f",
      "metadata": {
        "execution": {
          "iopub.execute_input": "2024-10-23T15:36:38.492559Z",
          "iopub.status.busy": "2024-10-23T15:36:38.491619Z",
          "iopub.status.idle": "2024-10-23T15:36:38.513652Z",
          "shell.execute_reply": "2024-10-23T15:36:38.512494Z"
        },
        "id": "79de8d0f",
        "outputId": "72175ad0-4297-4a7e-d51f-aa831151cba9",
        "papermill": {
          "duration": 0.055632,
          "end_time": "2024-10-23T15:36:38.516099",
          "exception": false,
          "start_time": "2024-10-23T15:36:38.460467",
          "status": "completed"
        },
        "tags": []
      },
      "outputs": [
        {
          "name": "stdout",
          "output_type": "stream",
          "text": [
            "Dimension of the augmented dataset: 15840\n"
          ]
        }
      ],
      "source": [
        "transform = transforms.Compose([\n",
        "    transforms.Resize(image_size),\n",
        "    transforms.ToTensor(),\n",
        "    transforms.Normalize(mean=[0.485, 0.456, 0.406], std=[0.229, 0.224, 0.225])\n",
        "])\n",
        "\n",
        "augmentation_transform = transforms.Compose([\n",
        "    transforms.RandomHorizontalFlip(p=0.5),\n",
        "    transforms.RandomRotation(degrees=15),\n",
        "    transforms.ColorJitter(brightness=0.2, contrast=0.2, saturation=0.2, hue=0.1),\n",
        "    transforms.RandomResizedCrop(size=image_size, scale=(0.8, 1.0)),\n",
        "    transforms.ToTensor(),\n",
        "    transforms.Normalize(mean=[0.485, 0.456, 0.406], std=[0.229, 0.224, 0.225])\n",
        "])\n",
        "\n",
        "original_dataset = GroceryStoreDataset(split='train', transform=transform)\n",
        "val_dataset = GroceryStoreDataset(split='val', transform=transform)\n",
        "\n",
        "augmented_dataset = AugmentedDataset(original_dataset, num_augmented_copies=num_aug_copies, augment_transform=augmentation_transform)\n",
        "print('Dimension of the augmented dataset:', augmented_dataset.__len__())\n",
        "\n",
        "cutmix = v2.CutMix(num_classes = 43, alpha=0.5)\n",
        "mixup = v2.MixUp(num_classes = 43, alpha=0.5)\n",
        "cutmix_or_mixup = v2.RandomChoice([cutmix, mixup])\n",
        "\n",
        "train_loader_augmented = DataLoader(augmented_dataset, batch_size=batch_size, shuffle=True, collate_fn=collate_fn)\n",
        "\n",
        "val_loader = DataLoader(val_dataset, batch_size=batch_size, shuffle=False)"
      ]
    },
    {
      "cell_type": "markdown",
      "id": "b10c941a",
      "metadata": {
        "id": "b10c941a",
        "papermill": {
          "duration": 0.030387,
          "end_time": "2024-10-23T15:36:38.582655",
          "exception": false,
          "start_time": "2024-10-23T15:36:38.552268",
          "status": "completed"
        },
        "tags": []
      },
      "source": [
        "### Create the model"
      ]
    },
    {
      "cell_type": "code",
      "execution_count": null,
      "metadata": {
        "execution": {
          "iopub.execute_input": "2024-10-23T20:38:26.058601Z",
          "iopub.status.busy": "2024-10-23T20:38:26.057754Z",
          "iopub.status.idle": "2024-10-23T20:38:26.315972Z",
          "shell.execute_reply": "2024-10-23T20:38:26.315030Z"
        },
        "id": "85eeda52",
        "outputId": "c637fa73-6b46-4f3e-b1db-d4de1f5b53d0",
        "papermill": {
          "duration": 0.287792,
          "end_time": "2024-10-23T20:38:26.319342",
          "exception": false,
          "start_time": "2024-10-23T20:38:26.031550",
          "status": "completed"
        },
        "tags": []
      },
      "outputs": [
        {
          "name": "stdout",
          "output_type": "stream",
          "text": [
            "----------------------------------------------------------------\n",
            "        Layer (type)               Output Shape         Param #\n",
            "================================================================\n",
            "            Conv2d-1         [-1, 64, 160, 160]           9,408\n",
            "       BatchNorm2d-2         [-1, 64, 160, 160]             128\n",
            "              ReLU-3         [-1, 64, 160, 160]               0\n",
            "         MaxPool2d-4           [-1, 64, 80, 80]               0\n",
            "            Conv2d-5           [-1, 64, 80, 80]          36,864\n",
            "       BatchNorm2d-6           [-1, 64, 80, 80]             128\n",
            "              ReLU-7           [-1, 64, 80, 80]               0\n",
            "            Conv2d-8           [-1, 64, 80, 80]          36,864\n",
            "       BatchNorm2d-9           [-1, 64, 80, 80]             128\n",
            "             ReLU-10           [-1, 64, 80, 80]               0\n",
            "       BasicBlock-11           [-1, 64, 80, 80]               0\n",
            "           Conv2d-12           [-1, 64, 80, 80]          36,864\n",
            "      BatchNorm2d-13           [-1, 64, 80, 80]             128\n",
            "             ReLU-14           [-1, 64, 80, 80]               0\n",
            "           Conv2d-15           [-1, 64, 80, 80]          36,864\n",
            "      BatchNorm2d-16           [-1, 64, 80, 80]             128\n",
            "             ReLU-17           [-1, 64, 80, 80]               0\n",
            "       BasicBlock-18           [-1, 64, 80, 80]               0\n",
            "           Conv2d-19          [-1, 128, 40, 40]          73,728\n",
            "      BatchNorm2d-20          [-1, 128, 40, 40]             256\n",
            "             ReLU-21          [-1, 128, 40, 40]               0\n",
            "           Conv2d-22          [-1, 128, 40, 40]         147,456\n",
            "      BatchNorm2d-23          [-1, 128, 40, 40]             256\n",
            "           Conv2d-24          [-1, 128, 40, 40]           8,192\n",
            "      BatchNorm2d-25          [-1, 128, 40, 40]             256\n",
            "             ReLU-26          [-1, 128, 40, 40]               0\n",
            "       BasicBlock-27          [-1, 128, 40, 40]               0\n",
            "           Conv2d-28          [-1, 128, 40, 40]         147,456\n",
            "      BatchNorm2d-29          [-1, 128, 40, 40]             256\n",
            "             ReLU-30          [-1, 128, 40, 40]               0\n",
            "           Conv2d-31          [-1, 128, 40, 40]         147,456\n",
            "      BatchNorm2d-32          [-1, 128, 40, 40]             256\n",
            "             ReLU-33          [-1, 128, 40, 40]               0\n",
            "       BasicBlock-34          [-1, 128, 40, 40]               0\n",
            "           Conv2d-35          [-1, 256, 20, 20]         294,912\n",
            "      BatchNorm2d-36          [-1, 256, 20, 20]             512\n",
            "             ReLU-37          [-1, 256, 20, 20]               0\n",
            "           Conv2d-38          [-1, 256, 20, 20]         589,824\n",
            "      BatchNorm2d-39          [-1, 256, 20, 20]             512\n",
            "           Conv2d-40          [-1, 256, 20, 20]          32,768\n",
            "      BatchNorm2d-41          [-1, 256, 20, 20]             512\n",
            "             ReLU-42          [-1, 256, 20, 20]               0\n",
            "       BasicBlock-43          [-1, 256, 20, 20]               0\n",
            "           Conv2d-44          [-1, 256, 20, 20]         589,824\n",
            "      BatchNorm2d-45          [-1, 256, 20, 20]             512\n",
            "             ReLU-46          [-1, 256, 20, 20]               0\n",
            "           Conv2d-47          [-1, 256, 20, 20]         589,824\n",
            "      BatchNorm2d-48          [-1, 256, 20, 20]             512\n",
            "             ReLU-49          [-1, 256, 20, 20]               0\n",
            "       BasicBlock-50          [-1, 256, 20, 20]               0\n",
            "           Conv2d-51          [-1, 512, 10, 10]       1,179,648\n",
            "      BatchNorm2d-52          [-1, 512, 10, 10]           1,024\n",
            "             ReLU-53          [-1, 512, 10, 10]               0\n",
            "           Conv2d-54          [-1, 512, 10, 10]       2,359,296\n",
            "      BatchNorm2d-55          [-1, 512, 10, 10]           1,024\n",
            "           Conv2d-56          [-1, 512, 10, 10]         131,072\n",
            "      BatchNorm2d-57          [-1, 512, 10, 10]           1,024\n",
            "             ReLU-58          [-1, 512, 10, 10]               0\n",
            "       BasicBlock-59          [-1, 512, 10, 10]               0\n",
            "           Conv2d-60          [-1, 512, 10, 10]       2,359,296\n",
            "      BatchNorm2d-61          [-1, 512, 10, 10]           1,024\n",
            "             ReLU-62          [-1, 512, 10, 10]               0\n",
            "           Conv2d-63          [-1, 512, 10, 10]       2,359,296\n",
            "      BatchNorm2d-64          [-1, 512, 10, 10]           1,024\n",
            "             ReLU-65          [-1, 512, 10, 10]               0\n",
            "       BasicBlock-66          [-1, 512, 10, 10]               0\n",
            "AdaptiveAvgPool2d-67            [-1, 512, 1, 1]               0\n",
            "           Linear-68                  [-1, 256]         131,328\n",
            "          Dropout-69                  [-1, 256]               0\n",
            "             ReLU-70                  [-1, 256]               0\n",
            "           Linear-71                  [-1, 128]          32,896\n",
            "          Dropout-72                  [-1, 128]               0\n",
            "             ReLU-73                  [-1, 128]               0\n",
            "           Linear-74                   [-1, 43]           5,547\n",
            "           ResNet-75                   [-1, 43]               0\n",
            "================================================================\n",
            "Total params: 11,346,283\n",
            "Trainable params: 11,346,283\n",
            "Non-trainable params: 0\n",
            "----------------------------------------------------------------\n",
            "Input size (MB): 1.17\n",
            "Forward/backward pass size (MB): 128.14\n",
            "Params size (MB): 43.28\n",
            "Estimated Total Size (MB): 172.59\n",
            "----------------------------------------------------------------\n"
          ]
        }
      ],
      "source": [
        "num_classes = original_dataset.get_num_classes()\n",
        "model_taskB = ResNet(num_classes)\n",
        "model_taskB.to('cuda') if torch.cuda.is_available() else model_taskB\n",
        "summary(model_taskB, input_size=(3, 320, 320))\n",
        "\n",
        "criterion = nn.CrossEntropyLoss()\n",
        "\n",
        "# Optimizer with different learning rates\n",
        "optimizer = optim.AdamW([\n",
        "    {'params': model_taskB.resnet.fc.parameters(), 'lr': lr_fc},\n",
        "    {'params': list(model_taskB.resnet.parameters())[:-7], 'lr': lr_pretrained}\n",
        "])\n",
        "\n",
        "scheduler = optim.lr_scheduler.ReduceLROnPlateau(optimizer=optimizer, mode='min', factor=0.3, patience=scheduler_patience)"
      ],
      "id": "85eeda52"
    },
    {
      "cell_type": "markdown",
      "id": "37436b3e",
      "metadata": {
        "id": "37436b3e",
        "papermill": {
          "duration": 0.030161,
          "end_time": "2024-10-23T15:36:39.166554",
          "exception": false,
          "start_time": "2024-10-23T15:36:39.136393",
          "status": "completed"
        },
        "tags": []
      },
      "source": [
        "### Train the model"
      ]
    },
    {
      "cell_type": "code",
      "execution_count": null,
      "metadata": {
        "execution": {
          "iopub.execute_input": "2024-10-23T20:38:26.437905Z",
          "iopub.status.busy": "2024-10-23T20:38:26.437486Z",
          "iopub.status.idle": "2024-10-23T22:09:59.544688Z",
          "shell.execute_reply": "2024-10-23T22:09:59.543785Z"
        },
        "id": "16c68534",
        "outputId": "285bf7ed-fc54-4dce-ea9c-34a3b3b96b4e",
        "papermill": {
          "duration": 5493.140468,
          "end_time": "2024-10-23T22:09:59.547119",
          "exception": false,
          "start_time": "2024-10-23T20:38:26.406651",
          "status": "completed"
        },
        "tags": []
      },
      "outputs": [
        {
          "name": "stdout",
          "output_type": "stream",
          "text": [
            "Epoch [1/50], Loss: 3.7982, Accuracy: 9.44%\n",
            "Validation Loss: 3.1661, Validation Accuracy: 28.72%\n",
            "Epoch [2/50], Loss: 3.1547, Accuracy: 23.65%\n",
            "Validation Loss: 2.6079, Validation Accuracy: 37.16%\n",
            "Epoch [3/50], Loss: 2.7238, Accuracy: 36.16%\n",
            "Validation Loss: 2.1373, Validation Accuracy: 48.31%\n",
            "Epoch [4/50], Loss: 2.5256, Accuracy: 43.77%\n",
            "Validation Loss: 1.9220, Validation Accuracy: 53.04%\n",
            "Epoch [5/50], Loss: 2.3189, Accuracy: 50.01%\n",
            "Validation Loss: 1.7163, Validation Accuracy: 57.09%\n",
            "Epoch [6/50], Loss: 2.2245, Accuracy: 54.31%\n",
            "Validation Loss: 1.6295, Validation Accuracy: 60.47%\n",
            "Epoch [7/50], Loss: 2.1685, Accuracy: 57.22%\n",
            "Validation Loss: 1.5514, Validation Accuracy: 61.82%\n",
            "Epoch [8/50], Loss: 1.8610, Accuracy: 65.29%\n",
            "Validation Loss: 1.3395, Validation Accuracy: 66.22%\n",
            "Epoch [9/50], Loss: 1.8995, Accuracy: 65.61%\n",
            "Validation Loss: 1.2348, Validation Accuracy: 71.62%\n",
            "Epoch [10/50], Loss: 1.6912, Accuracy: 71.37%\n",
            "Validation Loss: 1.1357, Validation Accuracy: 72.64%\n",
            "Epoch [11/50], Loss: 1.7707, Accuracy: 69.94%\n",
            "Validation Loss: 1.1350, Validation Accuracy: 72.97%\n",
            "Epoch [12/50], Loss: 1.5830, Accuracy: 74.49%\n",
            "Validation Loss: 0.9694, Validation Accuracy: 77.03%\n",
            "Epoch [13/50], Loss: 1.4982, Accuracy: 76.55%\n",
            "Validation Loss: 0.9396, Validation Accuracy: 77.03%\n",
            "Epoch [14/50], Loss: 1.5132, Accuracy: 78.98%\n",
            "Validation Loss: 0.8818, Validation Accuracy: 80.07%\n",
            "Epoch [15/50], Loss: 1.5631, Accuracy: 77.56%\n",
            "Validation Loss: 0.8316, Validation Accuracy: 79.05%\n",
            "Epoch [16/50], Loss: 1.4249, Accuracy: 82.46%\n",
            "Validation Loss: 0.8494, Validation Accuracy: 80.41%\n",
            "EarlyStopping counter: 1 out of 8\n",
            "Epoch [17/50], Loss: 1.4512, Accuracy: 81.23%\n",
            "Validation Loss: 0.8012, Validation Accuracy: 81.08%\n",
            "Epoch [18/50], Loss: 1.4719, Accuracy: 81.93%\n",
            "Validation Loss: 0.7963, Validation Accuracy: 81.76%\n",
            "Epoch [19/50], Loss: 1.4553, Accuracy: 83.95%\n",
            "Validation Loss: 0.7594, Validation Accuracy: 81.76%\n",
            "Epoch [20/50], Loss: 1.3334, Accuracy: 83.91%\n",
            "Validation Loss: 0.7229, Validation Accuracy: 81.76%\n",
            "Epoch [21/50], Loss: 1.3945, Accuracy: 82.39%\n",
            "Validation Loss: 0.7653, Validation Accuracy: 82.43%\n",
            "EarlyStopping counter: 1 out of 8\n",
            "Epoch [22/50], Loss: 1.2924, Accuracy: 85.41%\n",
            "Validation Loss: 0.7610, Validation Accuracy: 82.43%\n",
            "EarlyStopping counter: 2 out of 8\n",
            "Epoch [23/50], Loss: 1.3044, Accuracy: 84.64%\n",
            "Validation Loss: 0.7322, Validation Accuracy: 83.11%\n",
            "EarlyStopping counter: 3 out of 8\n",
            "Epoch [24/50], Loss: 1.1958, Accuracy: 86.89%\n",
            "Validation Loss: 0.6957, Validation Accuracy: 83.45%\n",
            "Epoch [25/50], Loss: 1.3766, Accuracy: 82.67%\n",
            "Validation Loss: 0.7354, Validation Accuracy: 84.80%\n",
            "EarlyStopping counter: 1 out of 8\n",
            "Epoch [26/50], Loss: 1.3868, Accuracy: 83.42%\n",
            "Validation Loss: 0.7603, Validation Accuracy: 83.78%\n",
            "EarlyStopping counter: 2 out of 8\n",
            "Epoch [27/50], Loss: 1.2222, Accuracy: 87.48%\n",
            "Validation Loss: 0.8348, Validation Accuracy: 82.43%\n",
            "EarlyStopping counter: 3 out of 8\n",
            "Epoch [28/50], Loss: 1.2822, Accuracy: 87.34%\n",
            "Validation Loss: 0.7110, Validation Accuracy: 83.45%\n",
            "EarlyStopping counter: 4 out of 8\n",
            "Epoch [29/50], Loss: 1.3489, Accuracy: 83.53%\n",
            "Validation Loss: 0.7348, Validation Accuracy: 83.45%\n",
            "EarlyStopping counter: 5 out of 8\n",
            "Epoch [30/50], Loss: 1.1730, Accuracy: 86.40%\n",
            "Validation Loss: 0.7117, Validation Accuracy: 83.45%\n",
            "EarlyStopping counter: 6 out of 8\n",
            "Epoch [31/50], Loss: 1.2634, Accuracy: 88.11%\n",
            "Validation Loss: 0.7265, Validation Accuracy: 84.80%\n",
            "EarlyStopping counter: 7 out of 8\n",
            "Epoch [32/50], Loss: 1.2739, Accuracy: 86.79%\n",
            "Validation Loss: 0.6860, Validation Accuracy: 83.45%\n",
            "Epoch [33/50], Loss: 1.3043, Accuracy: 85.40%\n",
            "Validation Loss: 0.7537, Validation Accuracy: 82.09%\n",
            "EarlyStopping counter: 1 out of 8\n",
            "Epoch [34/50], Loss: 1.2342, Accuracy: 88.93%\n",
            "Validation Loss: 0.7259, Validation Accuracy: 83.11%\n",
            "EarlyStopping counter: 2 out of 8\n",
            "Epoch [35/50], Loss: 1.1788, Accuracy: 88.51%\n",
            "Validation Loss: 0.7151, Validation Accuracy: 84.80%\n",
            "EarlyStopping counter: 3 out of 8\n",
            "Epoch [36/50], Loss: 1.2996, Accuracy: 85.01%\n",
            "Validation Loss: 0.6937, Validation Accuracy: 85.47%\n",
            "EarlyStopping counter: 4 out of 8\n",
            "Epoch [37/50], Loss: 1.2257, Accuracy: 87.61%\n",
            "Validation Loss: 0.7647, Validation Accuracy: 82.77%\n",
            "EarlyStopping counter: 5 out of 8\n",
            "Epoch [38/50], Loss: 1.2224, Accuracy: 88.34%\n",
            "Validation Loss: 0.7040, Validation Accuracy: 85.14%\n",
            "EarlyStopping counter: 6 out of 8\n",
            "Epoch [39/50], Loss: 1.1853, Accuracy: 88.36%\n",
            "Validation Loss: 0.6978, Validation Accuracy: 84.80%\n",
            "EarlyStopping counter: 7 out of 8\n",
            "Epoch [40/50], Loss: 1.2372, Accuracy: 85.98%\n",
            "Validation Loss: 0.7198, Validation Accuracy: 84.12%\n",
            "EarlyStopping counter: 8 out of 8\n",
            "Early stopping at epoch 40\n"
          ]
        },
        {
          "name": "stderr",
          "output_type": "stream",
          "text": [
            "/tmp/ipykernel_23/3685422308.py:67: FutureWarning: You are using `torch.load` with `weights_only=False` (the current default value), which uses the default pickle module implicitly. It is possible to construct malicious pickle data which will execute arbitrary code during unpickling (See https://github.com/pytorch/pytorch/blob/main/SECURITY.md#untrusted-models for more details). In a future release, the default value for `weights_only` will be flipped to `True`. This limits the functions that could be executed during unpickling. Arbitrary objects will no longer be allowed to be loaded via this mode unless they are explicitly allowlisted by the user via `torch.serialization.add_safe_globals`. We recommend you start setting `weights_only=True` for any use case where you don't have full control of the loaded file. Please open an issue on GitHub for any issues related to this experimental feature.\n",
            "  model.load_state_dict(torch.load('checkpoint.pt'))\n"
          ]
        },
        {
          "data": {
            "image/png": "[encoded data removed]",
            "text/plain": [
              "<Figure size 1200x500 with 2 Axes>"
            ]
          },
          "metadata": {},
          "output_type": "display_data"
        }
      ],
      "source": [
        "train_model(model_taskB, train_loader_augmented, val_loader, criterion, optimizer, scheduler, num_epochs=num_epochs, patience=es_patience)"
      ],
      "id": "16c68534"
    },
    {
      "cell_type": "markdown",
      "id": "f6e5dbed",
      "metadata": {
        "id": "f6e5dbed",
        "papermill": {
          "duration": 0.035413,
          "end_time": "2024-10-23T16:39:38.288509",
          "exception": false,
          "start_time": "2024-10-23T16:39:38.253096",
          "status": "completed"
        },
        "tags": []
      },
      "source": [
        "### Print the results"
      ]
    },
    {
      "cell_type": "code",
      "execution_count": null,
      "metadata": {
        "execution": {
          "iopub.execute_input": "2024-10-23T22:09:59.679598Z",
          "iopub.status.busy": "2024-10-23T22:09:59.678759Z",
          "iopub.status.idle": "2024-10-23T22:10:01.321672Z",
          "shell.execute_reply": "2024-10-23T22:10:01.320712Z"
        },
        "id": "fcaae948",
        "outputId": "7aad8c90-93cc-445f-d54a-103b4d5251d0",
        "papermill": {
          "duration": 1.678912,
          "end_time": "2024-10-23T22:10:01.323797",
          "exception": false,
          "start_time": "2024-10-23T22:09:59.644885",
          "status": "completed"
        },
        "tags": []
      },
      "outputs": [
        {
          "name": "stdout",
          "output_type": "stream",
          "text": [
            "Validation Accuracy: 83.45%\n"
          ]
        }
      ],
      "source": [
        "print_accuracy(model_taskB, val_loader, criterion, 'Validation')"
      ],
      "id": "fcaae948"
    },
    {
      "cell_type": "markdown",
      "id": "8c92c94d",
      "metadata": {
        "id": "8c92c94d",
        "papermill": {
          "duration": 0.035521,
          "end_time": "2024-10-23T16:39:40.040128",
          "exception": false,
          "start_time": "2024-10-23T16:39:40.004607",
          "status": "completed"
        },
        "tags": []
      },
      "source": [
        "### Discussion over the Fine-Tuning\n",
        "\n",
        "We imported the ResNet18 as requested, replacing the final fully connected layer with the same fully connected block presented in the first network implemented by us: 2 fc layers (256 -> 128) with dropout of 0.5 and then a classification layer that brings the output to *num_classes*. These design choices allowed us to achive better results without overfitting, as we further analize in the ablation studies.<br>\n",
        "\n",
        "In the first part of this task we used exactly the same functions and hyperparameters used for the train of the first model, reaching however decent results (about 74% accuracy on the validation set). So, in the second part we decided to improve further the network performances, changing some hyperparameters as requested.<br>\n",
        "\n",
        "In particular, the training differences are:\n",
        "\n",
        "- **Image size**: since ResNet goes deeper than our network, we decided to increase the dimensions of the input images from 256x256 to **320x320**.\n",
        "\n",
        "- **Batch size**: because ResNet has a lot of parameters (11,346,283), we decided to increase the batch_size from 32 to **128** in order to speed-up the training process.\n",
        "\n",
        "- **Learning rate**: we divided the network into two blocks with different learning rates. The first block consists of all the pre-trained ResNet layers, which are trained with a learning rate of 7e-6 to minimally alter the pre-existing weights. The second block, containing the two fully-connected layers, is trained with a higher learning rate of 7e-5 to enable it to learn optimal parameters. This approach balances preserving the pre-trained features while fine-tuning the final layers for our specific task.\n",
        "\n",
        "<br>\n",
        "\n",
        "\n",
        "\n",
        "With these modifications, we were able to achieve notable improvements over the first part, not only attaining higher validation accuracy (**83.45%**) but also substantially reducing overfitting. This allowed the model to generalize better to unseen data, demonstrating more stable performance and addressing the issues of overfitting that were prevalent in the first part.\n"
      ]
    },
    {
      "cell_type": "markdown",
      "id": "151939a6",
      "metadata": {
        "id": "151939a6",
        "papermill": {
          "duration": 0.035718,
          "end_time": "2024-10-23T16:39:40.111482",
          "exception": false,
          "start_time": "2024-10-23T16:39:40.075764",
          "status": "completed"
        },
        "tags": []
      },
      "source": [
        "### Ablation Study"
      ]
    },
    {
      "cell_type": "markdown",
      "id": "98599c5d",
      "metadata": {
        "id": "98599c5d",
        "papermill": {
          "duration": 0.035195,
          "end_time": "2024-10-23T16:39:40.182607",
          "exception": false,
          "start_time": "2024-10-23T16:39:40.147412",
          "status": "completed"
        },
        "tags": []
      },
      "source": [
        "#### Larger Image Size\n",
        "\n",
        "We initially investigated the impact of increasing the image size on model performance. While the training process itself did not change significantly, increasing the input image size to 320x320 resulted in nearly a 2% improvement in validation accuracy. This improvement is likely due to the network's ability to capture more detailed features from the larger input, providing it with richer and more informative content to learn from.\n",
        "\n",
        "\n",
        "\n",
        "![Larger Image Size](https://raw.githubusercontent.com/tancredibosi/IPCV_images_assignment2/main/as_image_size_task2.png)\n",
        "\n",
        "\n",
        "\n",
        "<br>\n",
        "\n",
        "\n",
        "\n",
        "#### Different Learning Rates\n",
        "\n",
        "Here we study the difference of using two learning rates on the two ResNet blocks. We can see that this choice allow us to achieve 1.50% more validation accuracy.\n",
        "\n",
        "\n",
        "\n",
        "![Different Learning Rate](https://raw.githubusercontent.com/tancredibosi/IPCV_images_assignment2/main/res-as-different-learning-rate-task2.png)\n",
        "\n",
        "\n",
        "\n",
        "<br>\n",
        "\n",
        "\n",
        "\n",
        "#### Dropout\n",
        "\n",
        "Lastly, we examined the impact of dropout layers within the fully-connected block. The results show a clear advantage when using dropout: without it, the network tends to overfit significantly, resulting in lower validation accuracy.<br>\n",
        "This underlines also the effectivness of using some fully-connected layers at the end because, with dropout, they helped a lot the training to not overfit.\n",
        "\n",
        "\n",
        "\n",
        "![Dropout](https://raw.githubusercontent.com/tancredibosi/IPCV_images_assignment2/main/res-as-dropout-task2.png)\n"
      ]
    }
  ],
  "metadata": {
    "accelerator": "GPU",
    "colab": {
      "gpuType": "T4",
      "provenance": [],
      "toc_visible": true
    },
    "kaggle": {
      "accelerator": "gpu",
      "dataSources": [],
      "dockerImageVersionId": 30787,
      "isGpuEnabled": true,
      "isInternetEnabled": true,
      "language": "python",
      "sourceType": "notebook"
    },
    "kernelspec": {
      "display_name": "Python 3",
      "language": "python",
      "name": "python3"
    },
    "language_info": {
      "codemirror_mode": {
        "name": "ipython",
        "version": 3
      },
      "file_extension": ".py",
      "mimetype": "text/x-python",
      "name": "python",
      "nbconvert_exporter": "python",
      "pygments_lexer": "ipython3",
      "version": "3.10.14"
    },
    "papermill": {
      "default_parameters": {},
      "duration": 8053.934274,
      "end_time": "2024-10-23T16:39:41.741816",
      "environment_variables": {},
      "exception": null,
      "input_path": "__notebook__.ipynb",
      "output_path": "__notebook__.ipynb",
      "parameters": {},
      "start_time": "2024-10-23T14:25:27.807542",
      "version": "2.6.0"
    }
  },
  "nbformat": 4,
  "nbformat_minor": 5
}